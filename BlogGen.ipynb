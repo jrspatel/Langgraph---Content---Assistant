{
  "nbformat": 4,
  "nbformat_minor": 0,
  "metadata": {
    "colab": {
      "provenance": []
    },
    "kernelspec": {
      "name": "python3",
      "display_name": "Python 3"
    },
    "language_info": {
      "name": "python"
    }
  },
  "cells": [
    {
      "cell_type": "code",
      "execution_count": null,
      "metadata": {
        "colab": {
          "base_uri": "https://localhost:8080/"
        },
        "id": "G5m8Se4_pnu7",
        "outputId": "6e6fd88a-f688-49fa-d847-079dc031c4ec"
      },
      "outputs": [
        {
          "output_type": "stream",
          "name": "stdout",
          "text": [
            "Collecting langgraph\n",
            "  Downloading langgraph-0.5.3-py3-none-any.whl.metadata (6.9 kB)\n",
            "Requirement already satisfied: langchain-core>=0.1 in /usr/local/lib/python3.11/dist-packages (from langgraph) (0.3.68)\n",
            "Collecting langgraph-checkpoint<3.0.0,>=2.1.0 (from langgraph)\n",
            "  Downloading langgraph_checkpoint-2.1.0-py3-none-any.whl.metadata (4.2 kB)\n",
            "Collecting langgraph-prebuilt<0.6.0,>=0.5.0 (from langgraph)\n",
            "  Downloading langgraph_prebuilt-0.5.2-py3-none-any.whl.metadata (4.5 kB)\n",
            "Collecting langgraph-sdk<0.2.0,>=0.1.42 (from langgraph)\n",
            "  Downloading langgraph_sdk-0.1.73-py3-none-any.whl.metadata (1.5 kB)\n",
            "Requirement already satisfied: pydantic>=2.7.4 in /usr/local/lib/python3.11/dist-packages (from langgraph) (2.11.7)\n",
            "Requirement already satisfied: xxhash>=3.5.0 in /usr/local/lib/python3.11/dist-packages (from langgraph) (3.5.0)\n",
            "Requirement already satisfied: langsmith>=0.3.45 in /usr/local/lib/python3.11/dist-packages (from langchain-core>=0.1->langgraph) (0.4.4)\n",
            "Requirement already satisfied: tenacity!=8.4.0,<10.0.0,>=8.1.0 in /usr/local/lib/python3.11/dist-packages (from langchain-core>=0.1->langgraph) (8.5.0)\n",
            "Requirement already satisfied: jsonpatch<2.0,>=1.33 in /usr/local/lib/python3.11/dist-packages (from langchain-core>=0.1->langgraph) (1.33)\n",
            "Requirement already satisfied: PyYAML>=5.3 in /usr/local/lib/python3.11/dist-packages (from langchain-core>=0.1->langgraph) (6.0.2)\n",
            "Requirement already satisfied: packaging<25,>=23.2 in /usr/local/lib/python3.11/dist-packages (from langchain-core>=0.1->langgraph) (24.2)\n",
            "Requirement already satisfied: typing-extensions>=4.7 in /usr/local/lib/python3.11/dist-packages (from langchain-core>=0.1->langgraph) (4.14.1)\n",
            "Collecting ormsgpack>=1.10.0 (from langgraph-checkpoint<3.0.0,>=2.1.0->langgraph)\n",
            "  Downloading ormsgpack-1.10.0-cp311-cp311-manylinux_2_17_x86_64.manylinux2014_x86_64.whl.metadata (43 kB)\n",
            "\u001b[2K     \u001b[90m━━━━━━━━━━━━━━━━━━━━━━━━━━━━━━━━━━━━━━━━\u001b[0m \u001b[32m43.7/43.7 kB\u001b[0m \u001b[31m2.2 MB/s\u001b[0m eta \u001b[36m0:00:00\u001b[0m\n",
            "\u001b[?25hRequirement already satisfied: httpx>=0.25.2 in /usr/local/lib/python3.11/dist-packages (from langgraph-sdk<0.2.0,>=0.1.42->langgraph) (0.28.1)\n",
            "Requirement already satisfied: orjson>=3.10.1 in /usr/local/lib/python3.11/dist-packages (from langgraph-sdk<0.2.0,>=0.1.42->langgraph) (3.10.18)\n",
            "Requirement already satisfied: annotated-types>=0.6.0 in /usr/local/lib/python3.11/dist-packages (from pydantic>=2.7.4->langgraph) (0.7.0)\n",
            "Requirement already satisfied: pydantic-core==2.33.2 in /usr/local/lib/python3.11/dist-packages (from pydantic>=2.7.4->langgraph) (2.33.2)\n",
            "Requirement already satisfied: typing-inspection>=0.4.0 in /usr/local/lib/python3.11/dist-packages (from pydantic>=2.7.4->langgraph) (0.4.1)\n",
            "Requirement already satisfied: anyio in /usr/local/lib/python3.11/dist-packages (from httpx>=0.25.2->langgraph-sdk<0.2.0,>=0.1.42->langgraph) (4.9.0)\n",
            "Requirement already satisfied: certifi in /usr/local/lib/python3.11/dist-packages (from httpx>=0.25.2->langgraph-sdk<0.2.0,>=0.1.42->langgraph) (2025.7.9)\n",
            "Requirement already satisfied: httpcore==1.* in /usr/local/lib/python3.11/dist-packages (from httpx>=0.25.2->langgraph-sdk<0.2.0,>=0.1.42->langgraph) (1.0.9)\n",
            "Requirement already satisfied: idna in /usr/local/lib/python3.11/dist-packages (from httpx>=0.25.2->langgraph-sdk<0.2.0,>=0.1.42->langgraph) (3.10)\n",
            "Requirement already satisfied: h11>=0.16 in /usr/local/lib/python3.11/dist-packages (from httpcore==1.*->httpx>=0.25.2->langgraph-sdk<0.2.0,>=0.1.42->langgraph) (0.16.0)\n",
            "Requirement already satisfied: jsonpointer>=1.9 in /usr/local/lib/python3.11/dist-packages (from jsonpatch<2.0,>=1.33->langchain-core>=0.1->langgraph) (3.0.0)\n",
            "Requirement already satisfied: requests<3,>=2 in /usr/local/lib/python3.11/dist-packages (from langsmith>=0.3.45->langchain-core>=0.1->langgraph) (2.32.3)\n",
            "Requirement already satisfied: requests-toolbelt<2.0.0,>=1.0.0 in /usr/local/lib/python3.11/dist-packages (from langsmith>=0.3.45->langchain-core>=0.1->langgraph) (1.0.0)\n",
            "Requirement already satisfied: zstandard<0.24.0,>=0.23.0 in /usr/local/lib/python3.11/dist-packages (from langsmith>=0.3.45->langchain-core>=0.1->langgraph) (0.23.0)\n",
            "Requirement already satisfied: charset-normalizer<4,>=2 in /usr/local/lib/python3.11/dist-packages (from requests<3,>=2->langsmith>=0.3.45->langchain-core>=0.1->langgraph) (3.4.2)\n",
            "Requirement already satisfied: urllib3<3,>=1.21.1 in /usr/local/lib/python3.11/dist-packages (from requests<3,>=2->langsmith>=0.3.45->langchain-core>=0.1->langgraph) (2.4.0)\n",
            "Requirement already satisfied: sniffio>=1.1 in /usr/local/lib/python3.11/dist-packages (from anyio->httpx>=0.25.2->langgraph-sdk<0.2.0,>=0.1.42->langgraph) (1.3.1)\n",
            "Downloading langgraph-0.5.3-py3-none-any.whl (143 kB)\n",
            "\u001b[2K   \u001b[90m━━━━━━━━━━━━━━━━━━━━━━━━━━━━━━━━━━━━━━━━\u001b[0m \u001b[32m143.8/143.8 kB\u001b[0m \u001b[31m6.4 MB/s\u001b[0m eta \u001b[36m0:00:00\u001b[0m\n",
            "\u001b[?25hDownloading langgraph_checkpoint-2.1.0-py3-none-any.whl (43 kB)\n",
            "\u001b[2K   \u001b[90m━━━━━━━━━━━━━━━━━━━━━━━━━━━━━━━━━━━━━━━━\u001b[0m \u001b[32m43.8/43.8 kB\u001b[0m \u001b[31m4.1 MB/s\u001b[0m eta \u001b[36m0:00:00\u001b[0m\n",
            "\u001b[?25hDownloading langgraph_prebuilt-0.5.2-py3-none-any.whl (23 kB)\n",
            "Downloading langgraph_sdk-0.1.73-py3-none-any.whl (50 kB)\n",
            "\u001b[2K   \u001b[90m━━━━━━━━━━━━━━━━━━━━━━━━━━━━━━━━━━━━━━━━\u001b[0m \u001b[32m50.2/50.2 kB\u001b[0m \u001b[31m3.8 MB/s\u001b[0m eta \u001b[36m0:00:00\u001b[0m\n",
            "\u001b[?25hDownloading ormsgpack-1.10.0-cp311-cp311-manylinux_2_17_x86_64.manylinux2014_x86_64.whl (216 kB)\n",
            "\u001b[2K   \u001b[90m━━━━━━━━━━━━━━━━━━━━━━━━━━━━━━━━━━━━━━━━\u001b[0m \u001b[32m216.5/216.5 kB\u001b[0m \u001b[31m14.7 MB/s\u001b[0m eta \u001b[36m0:00:00\u001b[0m\n",
            "\u001b[?25hInstalling collected packages: ormsgpack, langgraph-sdk, langgraph-checkpoint, langgraph-prebuilt, langgraph\n",
            "Successfully installed langgraph-0.5.3 langgraph-checkpoint-2.1.0 langgraph-prebuilt-0.5.2 langgraph-sdk-0.1.73 ormsgpack-1.10.0\n"
          ]
        }
      ],
      "source": [
        "!pip install langgraph"
      ]
    },
    {
      "cell_type": "code",
      "source": [
        "from typing import Annotated\n",
        "from typing_extensions import TypedDict\n",
        "from langgraph.graph import StateGraph, START, END\n",
        "from langgraph.graph.message import add_messages\n",
        "from langchain_core.messages import HumanMessage # Added import"
      ],
      "metadata": {
        "id": "nfj2Did_pwKF"
      },
      "execution_count": null,
      "outputs": []
    },
    {
      "cell_type": "code",
      "source": [
        "import os\n",
        "from google.colab import userdata\n",
        "\n",
        "os.environ[\"OPENAI_API_KEY\"] = userdata.get(\"OPENAI_KEY\")"
      ],
      "metadata": {
        "id": "TL5oV1NapwgV"
      },
      "execution_count": null,
      "outputs": []
    },
    {
      "cell_type": "code",
      "source": [
        "pip install -U \"langchain[openai]\""
      ],
      "metadata": {
        "colab": {
          "base_uri": "https://localhost:8080/"
        },
        "id": "ZGVitwYdqGj_",
        "outputId": "dea21769-9918-4165-d024-2e5de76bdaba"
      },
      "execution_count": null,
      "outputs": [
        {
          "output_type": "stream",
          "name": "stdout",
          "text": [
            "Requirement already satisfied: langchain[openai] in /usr/local/lib/python3.11/dist-packages (0.3.26)\n",
            "Requirement already satisfied: langchain-core<1.0.0,>=0.3.66 in /usr/local/lib/python3.11/dist-packages (from langchain[openai]) (0.3.68)\n",
            "Requirement already satisfied: langchain-text-splitters<1.0.0,>=0.3.8 in /usr/local/lib/python3.11/dist-packages (from langchain[openai]) (0.3.8)\n",
            "Requirement already satisfied: langsmith>=0.1.17 in /usr/local/lib/python3.11/dist-packages (from langchain[openai]) (0.4.4)\n",
            "Requirement already satisfied: pydantic<3.0.0,>=2.7.4 in /usr/local/lib/python3.11/dist-packages (from langchain[openai]) (2.11.7)\n",
            "Requirement already satisfied: SQLAlchemy<3,>=1.4 in /usr/local/lib/python3.11/dist-packages (from langchain[openai]) (2.0.41)\n",
            "Requirement already satisfied: requests<3,>=2 in /usr/local/lib/python3.11/dist-packages (from langchain[openai]) (2.32.3)\n",
            "Requirement already satisfied: PyYAML>=5.3 in /usr/local/lib/python3.11/dist-packages (from langchain[openai]) (6.0.2)\n",
            "Requirement already satisfied: langchain-openai in /usr/local/lib/python3.11/dist-packages (from langchain[openai]) (0.3.28)\n",
            "Requirement already satisfied: tenacity!=8.4.0,<10.0.0,>=8.1.0 in /usr/local/lib/python3.11/dist-packages (from langchain-core<1.0.0,>=0.3.66->langchain[openai]) (8.5.0)\n",
            "Requirement already satisfied: jsonpatch<2.0,>=1.33 in /usr/local/lib/python3.11/dist-packages (from langchain-core<1.0.0,>=0.3.66->langchain[openai]) (1.33)\n",
            "Requirement already satisfied: packaging<25,>=23.2 in /usr/local/lib/python3.11/dist-packages (from langchain-core<1.0.0,>=0.3.66->langchain[openai]) (24.2)\n",
            "Requirement already satisfied: typing-extensions>=4.7 in /usr/local/lib/python3.11/dist-packages (from langchain-core<1.0.0,>=0.3.66->langchain[openai]) (4.14.1)\n",
            "Requirement already satisfied: httpx<1,>=0.23.0 in /usr/local/lib/python3.11/dist-packages (from langsmith>=0.1.17->langchain[openai]) (0.28.1)\n",
            "Requirement already satisfied: orjson<4.0.0,>=3.9.14 in /usr/local/lib/python3.11/dist-packages (from langsmith>=0.1.17->langchain[openai]) (3.10.18)\n",
            "Requirement already satisfied: requests-toolbelt<2.0.0,>=1.0.0 in /usr/local/lib/python3.11/dist-packages (from langsmith>=0.1.17->langchain[openai]) (1.0.0)\n",
            "Requirement already satisfied: zstandard<0.24.0,>=0.23.0 in /usr/local/lib/python3.11/dist-packages (from langsmith>=0.1.17->langchain[openai]) (0.23.0)\n",
            "Requirement already satisfied: annotated-types>=0.6.0 in /usr/local/lib/python3.11/dist-packages (from pydantic<3.0.0,>=2.7.4->langchain[openai]) (0.7.0)\n",
            "Requirement already satisfied: pydantic-core==2.33.2 in /usr/local/lib/python3.11/dist-packages (from pydantic<3.0.0,>=2.7.4->langchain[openai]) (2.33.2)\n",
            "Requirement already satisfied: typing-inspection>=0.4.0 in /usr/local/lib/python3.11/dist-packages (from pydantic<3.0.0,>=2.7.4->langchain[openai]) (0.4.1)\n",
            "Requirement already satisfied: charset-normalizer<4,>=2 in /usr/local/lib/python3.11/dist-packages (from requests<3,>=2->langchain[openai]) (3.4.2)\n",
            "Requirement already satisfied: idna<4,>=2.5 in /usr/local/lib/python3.11/dist-packages (from requests<3,>=2->langchain[openai]) (3.10)\n",
            "Requirement already satisfied: urllib3<3,>=1.21.1 in /usr/local/lib/python3.11/dist-packages (from requests<3,>=2->langchain[openai]) (2.4.0)\n",
            "Requirement already satisfied: certifi>=2017.4.17 in /usr/local/lib/python3.11/dist-packages (from requests<3,>=2->langchain[openai]) (2025.7.9)\n",
            "Requirement already satisfied: greenlet>=1 in /usr/local/lib/python3.11/dist-packages (from SQLAlchemy<3,>=1.4->langchain[openai]) (3.2.3)\n",
            "Requirement already satisfied: openai<2.0.0,>=1.86.0 in /usr/local/lib/python3.11/dist-packages (from langchain-openai->langchain[openai]) (1.94.0)\n",
            "Requirement already satisfied: tiktoken<1,>=0.7 in /usr/local/lib/python3.11/dist-packages (from langchain-openai->langchain[openai]) (0.9.0)\n",
            "Requirement already satisfied: anyio in /usr/local/lib/python3.11/dist-packages (from httpx<1,>=0.23.0->langsmith>=0.1.17->langchain[openai]) (4.9.0)\n",
            "Requirement already satisfied: httpcore==1.* in /usr/local/lib/python3.11/dist-packages (from httpx<1,>=0.23.0->langsmith>=0.1.17->langchain[openai]) (1.0.9)\n",
            "Requirement already satisfied: h11>=0.16 in /usr/local/lib/python3.11/dist-packages (from httpcore==1.*->httpx<1,>=0.23.0->langsmith>=0.1.17->langchain[openai]) (0.16.0)\n",
            "Requirement already satisfied: jsonpointer>=1.9 in /usr/local/lib/python3.11/dist-packages (from jsonpatch<2.0,>=1.33->langchain-core<1.0.0,>=0.3.66->langchain[openai]) (3.0.0)\n",
            "Requirement already satisfied: distro<2,>=1.7.0 in /usr/local/lib/python3.11/dist-packages (from openai<2.0.0,>=1.86.0->langchain-openai->langchain[openai]) (1.9.0)\n",
            "Requirement already satisfied: jiter<1,>=0.4.0 in /usr/local/lib/python3.11/dist-packages (from openai<2.0.0,>=1.86.0->langchain-openai->langchain[openai]) (0.10.0)\n",
            "Requirement already satisfied: sniffio in /usr/local/lib/python3.11/dist-packages (from openai<2.0.0,>=1.86.0->langchain-openai->langchain[openai]) (1.3.1)\n",
            "Requirement already satisfied: tqdm>4 in /usr/local/lib/python3.11/dist-packages (from openai<2.0.0,>=1.86.0->langchain-openai->langchain[openai]) (4.67.1)\n",
            "Requirement already satisfied: regex>=2022.1.18 in /usr/local/lib/python3.11/dist-packages (from tiktoken<1,>=0.7->langchain-openai->langchain[openai]) (2024.11.6)\n"
          ]
        }
      ]
    },
    {
      "cell_type": "code",
      "source": [
        "pip install -U langchain-tavily"
      ],
      "metadata": {
        "colab": {
          "base_uri": "https://localhost:8080/"
        },
        "id": "eYS5z88drWIr",
        "outputId": "436c0906-f3e1-4412-b305-33c80d9e41ec"
      },
      "execution_count": null,
      "outputs": [
        {
          "output_type": "stream",
          "name": "stdout",
          "text": [
            "Collecting langchain-tavily\n",
            "  Downloading langchain_tavily-0.2.7-py3-none-any.whl.metadata (21 kB)\n",
            "Requirement already satisfied: aiohttp<4.0.0,>=3.11.14 in /usr/local/lib/python3.11/dist-packages (from langchain-tavily) (3.11.15)\n",
            "Requirement already satisfied: langchain<0.4.0,>=0.3.20 in /usr/local/lib/python3.11/dist-packages (from langchain-tavily) (0.3.26)\n",
            "Requirement already satisfied: langchain-core<0.4.0,>=0.3.15 in /usr/local/lib/python3.11/dist-packages (from langchain-tavily) (0.3.68)\n",
            "Requirement already satisfied: requests<3.0.0,>=2.32.3 in /usr/local/lib/python3.11/dist-packages (from langchain-tavily) (2.32.3)\n",
            "Requirement already satisfied: aiohappyeyeballs>=2.3.0 in /usr/local/lib/python3.11/dist-packages (from aiohttp<4.0.0,>=3.11.14->langchain-tavily) (2.6.1)\n",
            "Requirement already satisfied: aiosignal>=1.1.2 in /usr/local/lib/python3.11/dist-packages (from aiohttp<4.0.0,>=3.11.14->langchain-tavily) (1.4.0)\n",
            "Requirement already satisfied: attrs>=17.3.0 in /usr/local/lib/python3.11/dist-packages (from aiohttp<4.0.0,>=3.11.14->langchain-tavily) (25.3.0)\n",
            "Requirement already satisfied: frozenlist>=1.1.1 in /usr/local/lib/python3.11/dist-packages (from aiohttp<4.0.0,>=3.11.14->langchain-tavily) (1.7.0)\n",
            "Requirement already satisfied: multidict<7.0,>=4.5 in /usr/local/lib/python3.11/dist-packages (from aiohttp<4.0.0,>=3.11.14->langchain-tavily) (6.6.3)\n",
            "Requirement already satisfied: propcache>=0.2.0 in /usr/local/lib/python3.11/dist-packages (from aiohttp<4.0.0,>=3.11.14->langchain-tavily) (0.3.2)\n",
            "Requirement already satisfied: yarl<2.0,>=1.17.0 in /usr/local/lib/python3.11/dist-packages (from aiohttp<4.0.0,>=3.11.14->langchain-tavily) (1.20.1)\n",
            "Requirement already satisfied: langchain-text-splitters<1.0.0,>=0.3.8 in /usr/local/lib/python3.11/dist-packages (from langchain<0.4.0,>=0.3.20->langchain-tavily) (0.3.8)\n",
            "Requirement already satisfied: langsmith>=0.1.17 in /usr/local/lib/python3.11/dist-packages (from langchain<0.4.0,>=0.3.20->langchain-tavily) (0.4.4)\n",
            "Requirement already satisfied: pydantic<3.0.0,>=2.7.4 in /usr/local/lib/python3.11/dist-packages (from langchain<0.4.0,>=0.3.20->langchain-tavily) (2.11.7)\n",
            "Requirement already satisfied: SQLAlchemy<3,>=1.4 in /usr/local/lib/python3.11/dist-packages (from langchain<0.4.0,>=0.3.20->langchain-tavily) (2.0.41)\n",
            "Requirement already satisfied: PyYAML>=5.3 in /usr/local/lib/python3.11/dist-packages (from langchain<0.4.0,>=0.3.20->langchain-tavily) (6.0.2)\n",
            "Requirement already satisfied: tenacity!=8.4.0,<10.0.0,>=8.1.0 in /usr/local/lib/python3.11/dist-packages (from langchain-core<0.4.0,>=0.3.15->langchain-tavily) (8.5.0)\n",
            "Requirement already satisfied: jsonpatch<2.0,>=1.33 in /usr/local/lib/python3.11/dist-packages (from langchain-core<0.4.0,>=0.3.15->langchain-tavily) (1.33)\n",
            "Requirement already satisfied: packaging<25,>=23.2 in /usr/local/lib/python3.11/dist-packages (from langchain-core<0.4.0,>=0.3.15->langchain-tavily) (24.2)\n",
            "Requirement already satisfied: typing-extensions>=4.7 in /usr/local/lib/python3.11/dist-packages (from langchain-core<0.4.0,>=0.3.15->langchain-tavily) (4.14.1)\n",
            "Requirement already satisfied: charset-normalizer<4,>=2 in /usr/local/lib/python3.11/dist-packages (from requests<3.0.0,>=2.32.3->langchain-tavily) (3.4.2)\n",
            "Requirement already satisfied: idna<4,>=2.5 in /usr/local/lib/python3.11/dist-packages (from requests<3.0.0,>=2.32.3->langchain-tavily) (3.10)\n",
            "Requirement already satisfied: urllib3<3,>=1.21.1 in /usr/local/lib/python3.11/dist-packages (from requests<3.0.0,>=2.32.3->langchain-tavily) (2.4.0)\n",
            "Requirement already satisfied: certifi>=2017.4.17 in /usr/local/lib/python3.11/dist-packages (from requests<3.0.0,>=2.32.3->langchain-tavily) (2025.7.9)\n",
            "Requirement already satisfied: jsonpointer>=1.9 in /usr/local/lib/python3.11/dist-packages (from jsonpatch<2.0,>=1.33->langchain-core<0.4.0,>=0.3.15->langchain-tavily) (3.0.0)\n",
            "Requirement already satisfied: httpx<1,>=0.23.0 in /usr/local/lib/python3.11/dist-packages (from langsmith>=0.1.17->langchain<0.4.0,>=0.3.20->langchain-tavily) (0.28.1)\n",
            "Requirement already satisfied: orjson<4.0.0,>=3.9.14 in /usr/local/lib/python3.11/dist-packages (from langsmith>=0.1.17->langchain<0.4.0,>=0.3.20->langchain-tavily) (3.10.18)\n",
            "Requirement already satisfied: requests-toolbelt<2.0.0,>=1.0.0 in /usr/local/lib/python3.11/dist-packages (from langsmith>=0.1.17->langchain<0.4.0,>=0.3.20->langchain-tavily) (1.0.0)\n",
            "Requirement already satisfied: zstandard<0.24.0,>=0.23.0 in /usr/local/lib/python3.11/dist-packages (from langsmith>=0.1.17->langchain<0.4.0,>=0.3.20->langchain-tavily) (0.23.0)\n",
            "Requirement already satisfied: annotated-types>=0.6.0 in /usr/local/lib/python3.11/dist-packages (from pydantic<3.0.0,>=2.7.4->langchain<0.4.0,>=0.3.20->langchain-tavily) (0.7.0)\n",
            "Requirement already satisfied: pydantic-core==2.33.2 in /usr/local/lib/python3.11/dist-packages (from pydantic<3.0.0,>=2.7.4->langchain<0.4.0,>=0.3.20->langchain-tavily) (2.33.2)\n",
            "Requirement already satisfied: typing-inspection>=0.4.0 in /usr/local/lib/python3.11/dist-packages (from pydantic<3.0.0,>=2.7.4->langchain<0.4.0,>=0.3.20->langchain-tavily) (0.4.1)\n",
            "Requirement already satisfied: greenlet>=1 in /usr/local/lib/python3.11/dist-packages (from SQLAlchemy<3,>=1.4->langchain<0.4.0,>=0.3.20->langchain-tavily) (3.2.3)\n",
            "Requirement already satisfied: anyio in /usr/local/lib/python3.11/dist-packages (from httpx<1,>=0.23.0->langsmith>=0.1.17->langchain<0.4.0,>=0.3.20->langchain-tavily) (4.9.0)\n",
            "Requirement already satisfied: httpcore==1.* in /usr/local/lib/python3.11/dist-packages (from httpx<1,>=0.23.0->langsmith>=0.1.17->langchain<0.4.0,>=0.3.20->langchain-tavily) (1.0.9)\n",
            "Requirement already satisfied: h11>=0.16 in /usr/local/lib/python3.11/dist-packages (from httpcore==1.*->httpx<1,>=0.23.0->langsmith>=0.1.17->langchain<0.4.0,>=0.3.20->langchain-tavily) (0.16.0)\n",
            "Requirement already satisfied: sniffio>=1.1 in /usr/local/lib/python3.11/dist-packages (from anyio->httpx<1,>=0.23.0->langsmith>=0.1.17->langchain<0.4.0,>=0.3.20->langchain-tavily) (1.3.1)\n",
            "Downloading langchain_tavily-0.2.7-py3-none-any.whl (25 kB)\n",
            "Installing collected packages: langchain-tavily\n",
            "Successfully installed langchain-tavily-0.2.7\n"
          ]
        }
      ]
    },
    {
      "cell_type": "code",
      "source": [
        "import os\n",
        "import getpass\n",
        "def _set_env(var: str):\n",
        "    if not os.environ.get(var):\n",
        "        os.environ[var] = getpass.getpass(f\"{var}: \")\n",
        "\n",
        "_set_env(\"TAVILY_API_KEY\")\n",
        "\n",
        "from langchain_tavily import TavilySearch\n",
        "\n",
        "tool = TavilySearch(max_results=2)\n",
        "tools = [tool]\n",
        "tool.invoke(\"What's TRENDING IN AI\")"
      ],
      "metadata": {
        "id": "b1ZIjFtJrSkB",
        "colab": {
          "base_uri": "https://localhost:8080/"
        },
        "outputId": "386ba528-7c48-4106-e55d-591e7efa164f"
      },
      "execution_count": null,
      "outputs": [
        {
          "name": "stdout",
          "output_type": "stream",
          "text": [
            "TAVILY_API_KEY: ··········\n"
          ]
        },
        {
          "output_type": "execute_result",
          "data": {
            "text/plain": [
              "{'query': \"What's TRENDING IN AI\",\n",
              " 'follow_up_questions': None,\n",
              " 'answer': None,\n",
              " 'images': [],\n",
              " 'results': [{'url': 'https://www.artificialintelligence-news.com/',\n",
              "   'title': 'AI News | Latest AI News, Analysis & Events',\n",
              "   'content': 'Applications, Artificial Intelligence, Finance, Industries AI is rewriting the rules of the insurance industry ======================================================================================================================================================== July 11, 2025 Applications, Artificial Intelligence, Companies, Ethics & Society, Google, Healthcare, Industries, Virtual Assistants Image 15: Flag of the EU as the European Commission has seen a flood of interest from companies looking to help create AI Gigafactories across Europe develop and train the next generation of artificial intelligence systems. AGI, Applications, Artificial Intelligence, Cloud, Companies, Data Center, Quantum Computing, Security, Space AGI, Applications, Artificial Intelligence, Chatbots, Companies, Development, Ethics & Society, Virtual Assistants Artificial Intelligence, Cloud, Machine Learning, new_AI and Us Alibaba, Artificial Intelligence, Blockchain, Companies, Deep & Reinforcement Learning, Development Artificial Intelligence, Companies, Deep & Reinforcement Learning, DeepSeek, Development',\n",
              "   'score': 0.56258565,\n",
              "   'raw_content': None},\n",
              "  {'url': 'https://news.microsoft.com/source/features/ai/6-ai-trends-youll-see-more-of-in-2025/',\n",
              "   'title': \"6 AI trends you'll see more of in 2025 - Microsoft News\",\n",
              "   'content': 'All Microsoft *   Microsoft 365 And Microsoft will remain grounded in its commitment to help people use and build AI that is safe and secure. “AI is already making the impossible feel possible, and over the past year we’ve seen significant numbers of people and organizations moving from AI experimentation to more meaningful adoption,” says Chris Young, executive vice president of business development, strategy and ventures at Microsoft. “There could be synergy between how we are training the models and how those models are powering agents in return,” says Ece Kamar, managing director of Microsoft’s AI Frontiers Lab. That’s because Microsoft Copilot can support you throughout your day as your AI companion. *   Microsoft 365 *   About Microsoft',\n",
              "   'score': 0.5163278,\n",
              "   'raw_content': None}],\n",
              " 'response_time': 1.38}"
            ]
          },
          "metadata": {},
          "execution_count": 6
        }
      ]
    },
    {
      "cell_type": "code",
      "source": [
        "from langchain.chat_models import init_chat_model\n",
        "llm = init_chat_model(\"openai:gpt-4.1\")\n",
        "llm_with_tools = llm.bind_tools(tools)"
      ],
      "metadata": {
        "id": "UQN55ELZpzje"
      },
      "execution_count": null,
      "outputs": []
    },
    {
      "cell_type": "markdown",
      "source": [
        "# NOT USED - RESEARCH"
      ],
      "metadata": {
        "id": "Fq3DI0TRqWRq"
      }
    },
    {
      "cell_type": "code",
      "source": [
        "!pip install serpapi"
      ],
      "metadata": {
        "id": "utKVn37GszLx",
        "colab": {
          "base_uri": "https://localhost:8080/"
        },
        "outputId": "05c8bc93-d805-4c3c-9102-ea4f3a4f3a64"
      },
      "execution_count": null,
      "outputs": [
        {
          "output_type": "stream",
          "name": "stdout",
          "text": [
            "Collecting serpapi\n",
            "  Downloading serpapi-0.1.5-py2.py3-none-any.whl.metadata (10 kB)\n",
            "Requirement already satisfied: requests in /usr/local/lib/python3.11/dist-packages (from serpapi) (2.32.3)\n",
            "Requirement already satisfied: charset-normalizer<4,>=2 in /usr/local/lib/python3.11/dist-packages (from requests->serpapi) (3.4.2)\n",
            "Requirement already satisfied: idna<4,>=2.5 in /usr/local/lib/python3.11/dist-packages (from requests->serpapi) (3.10)\n",
            "Requirement already satisfied: urllib3<3,>=1.21.1 in /usr/local/lib/python3.11/dist-packages (from requests->serpapi) (2.4.0)\n",
            "Requirement already satisfied: certifi>=2017.4.17 in /usr/local/lib/python3.11/dist-packages (from requests->serpapi) (2025.7.9)\n",
            "Downloading serpapi-0.1.5-py2.py3-none-any.whl (10 kB)\n",
            "Installing collected packages: serpapi\n",
            "Successfully installed serpapi-0.1.5\n"
          ]
        }
      ]
    },
    {
      "cell_type": "code",
      "source": [
        "!pip install streamlit"
      ],
      "metadata": {
        "colab": {
          "base_uri": "https://localhost:8080/"
        },
        "id": "br8V-POUuOvy",
        "outputId": "b1d8b9f9-942f-4470-be3d-112cd2139a67"
      },
      "execution_count": null,
      "outputs": [
        {
          "output_type": "stream",
          "name": "stdout",
          "text": [
            "Collecting streamlit\n",
            "  Downloading streamlit-1.46.1-py3-none-any.whl.metadata (9.0 kB)\n",
            "Requirement already satisfied: altair<6,>=4.0 in /usr/local/lib/python3.11/dist-packages (from streamlit) (5.5.0)\n",
            "Requirement already satisfied: blinker<2,>=1.5.0 in /usr/local/lib/python3.11/dist-packages (from streamlit) (1.9.0)\n",
            "Requirement already satisfied: cachetools<7,>=4.0 in /usr/local/lib/python3.11/dist-packages (from streamlit) (5.5.2)\n",
            "Requirement already satisfied: click<9,>=7.0 in /usr/local/lib/python3.11/dist-packages (from streamlit) (8.2.1)\n",
            "Requirement already satisfied: numpy<3,>=1.23 in /usr/local/lib/python3.11/dist-packages (from streamlit) (2.0.2)\n",
            "Requirement already satisfied: packaging<26,>=20 in /usr/local/lib/python3.11/dist-packages (from streamlit) (24.2)\n",
            "Requirement already satisfied: pandas<3,>=1.4.0 in /usr/local/lib/python3.11/dist-packages (from streamlit) (2.2.2)\n",
            "Requirement already satisfied: pillow<12,>=7.1.0 in /usr/local/lib/python3.11/dist-packages (from streamlit) (11.2.1)\n",
            "Requirement already satisfied: protobuf<7,>=3.20 in /usr/local/lib/python3.11/dist-packages (from streamlit) (5.29.5)\n",
            "Requirement already satisfied: pyarrow>=7.0 in /usr/local/lib/python3.11/dist-packages (from streamlit) (18.1.0)\n",
            "Requirement already satisfied: requests<3,>=2.27 in /usr/local/lib/python3.11/dist-packages (from streamlit) (2.32.3)\n",
            "Requirement already satisfied: tenacity<10,>=8.1.0 in /usr/local/lib/python3.11/dist-packages (from streamlit) (8.5.0)\n",
            "Requirement already satisfied: toml<2,>=0.10.1 in /usr/local/lib/python3.11/dist-packages (from streamlit) (0.10.2)\n",
            "Requirement already satisfied: typing-extensions<5,>=4.4.0 in /usr/local/lib/python3.11/dist-packages (from streamlit) (4.14.1)\n",
            "Collecting watchdog<7,>=2.1.5 (from streamlit)\n",
            "  Downloading watchdog-6.0.0-py3-none-manylinux2014_x86_64.whl.metadata (44 kB)\n",
            "\u001b[2K     \u001b[90m━━━━━━━━━━━━━━━━━━━━━━━━━━━━━━━━━━━━━━━━\u001b[0m \u001b[32m44.3/44.3 kB\u001b[0m \u001b[31m2.5 MB/s\u001b[0m eta \u001b[36m0:00:00\u001b[0m\n",
            "\u001b[?25hRequirement already satisfied: gitpython!=3.1.19,<4,>=3.0.7 in /usr/local/lib/python3.11/dist-packages (from streamlit) (3.1.44)\n",
            "Collecting pydeck<1,>=0.8.0b4 (from streamlit)\n",
            "  Downloading pydeck-0.9.1-py2.py3-none-any.whl.metadata (4.1 kB)\n",
            "Requirement already satisfied: tornado!=6.5.0,<7,>=6.0.3 in /usr/local/lib/python3.11/dist-packages (from streamlit) (6.4.2)\n",
            "Requirement already satisfied: jinja2 in /usr/local/lib/python3.11/dist-packages (from altair<6,>=4.0->streamlit) (3.1.6)\n",
            "Requirement already satisfied: jsonschema>=3.0 in /usr/local/lib/python3.11/dist-packages (from altair<6,>=4.0->streamlit) (4.24.0)\n",
            "Requirement already satisfied: narwhals>=1.14.2 in /usr/local/lib/python3.11/dist-packages (from altair<6,>=4.0->streamlit) (1.46.0)\n",
            "Requirement already satisfied: gitdb<5,>=4.0.1 in /usr/local/lib/python3.11/dist-packages (from gitpython!=3.1.19,<4,>=3.0.7->streamlit) (4.0.12)\n",
            "Requirement already satisfied: python-dateutil>=2.8.2 in /usr/local/lib/python3.11/dist-packages (from pandas<3,>=1.4.0->streamlit) (2.9.0.post0)\n",
            "Requirement already satisfied: pytz>=2020.1 in /usr/local/lib/python3.11/dist-packages (from pandas<3,>=1.4.0->streamlit) (2025.2)\n",
            "Requirement already satisfied: tzdata>=2022.7 in /usr/local/lib/python3.11/dist-packages (from pandas<3,>=1.4.0->streamlit) (2025.2)\n",
            "Requirement already satisfied: charset-normalizer<4,>=2 in /usr/local/lib/python3.11/dist-packages (from requests<3,>=2.27->streamlit) (3.4.2)\n",
            "Requirement already satisfied: idna<4,>=2.5 in /usr/local/lib/python3.11/dist-packages (from requests<3,>=2.27->streamlit) (3.10)\n",
            "Requirement already satisfied: urllib3<3,>=1.21.1 in /usr/local/lib/python3.11/dist-packages (from requests<3,>=2.27->streamlit) (2.4.0)\n",
            "Requirement already satisfied: certifi>=2017.4.17 in /usr/local/lib/python3.11/dist-packages (from requests<3,>=2.27->streamlit) (2025.7.9)\n",
            "Requirement already satisfied: smmap<6,>=3.0.1 in /usr/local/lib/python3.11/dist-packages (from gitdb<5,>=4.0.1->gitpython!=3.1.19,<4,>=3.0.7->streamlit) (5.0.2)\n",
            "Requirement already satisfied: MarkupSafe>=2.0 in /usr/local/lib/python3.11/dist-packages (from jinja2->altair<6,>=4.0->streamlit) (3.0.2)\n",
            "Requirement already satisfied: attrs>=22.2.0 in /usr/local/lib/python3.11/dist-packages (from jsonschema>=3.0->altair<6,>=4.0->streamlit) (25.3.0)\n",
            "Requirement already satisfied: jsonschema-specifications>=2023.03.6 in /usr/local/lib/python3.11/dist-packages (from jsonschema>=3.0->altair<6,>=4.0->streamlit) (2025.4.1)\n",
            "Requirement already satisfied: referencing>=0.28.4 in /usr/local/lib/python3.11/dist-packages (from jsonschema>=3.0->altair<6,>=4.0->streamlit) (0.36.2)\n",
            "Requirement already satisfied: rpds-py>=0.7.1 in /usr/local/lib/python3.11/dist-packages (from jsonschema>=3.0->altair<6,>=4.0->streamlit) (0.26.0)\n",
            "Requirement already satisfied: six>=1.5 in /usr/local/lib/python3.11/dist-packages (from python-dateutil>=2.8.2->pandas<3,>=1.4.0->streamlit) (1.17.0)\n",
            "Downloading streamlit-1.46.1-py3-none-any.whl (10.1 MB)\n",
            "\u001b[2K   \u001b[90m━━━━━━━━━━━━━━━━━━━━━━━━━━━━━━━━━━━━━━━━\u001b[0m \u001b[32m10.1/10.1 MB\u001b[0m \u001b[31m34.3 MB/s\u001b[0m eta \u001b[36m0:00:00\u001b[0m\n",
            "\u001b[?25hDownloading pydeck-0.9.1-py2.py3-none-any.whl (6.9 MB)\n",
            "\u001b[2K   \u001b[90m━━━━━━━━━━━━━━━━━━━━━━━━━━━━━━━━━━━━━━━━\u001b[0m \u001b[32m6.9/6.9 MB\u001b[0m \u001b[31m49.4 MB/s\u001b[0m eta \u001b[36m0:00:00\u001b[0m\n",
            "\u001b[?25hDownloading watchdog-6.0.0-py3-none-manylinux2014_x86_64.whl (79 kB)\n",
            "\u001b[2K   \u001b[90m━━━━━━━━━━━━━━━━━━━━━━━━━━━━━━━━━━━━━━━━\u001b[0m \u001b[32m79.1/79.1 kB\u001b[0m \u001b[31m3.4 MB/s\u001b[0m eta \u001b[36m0:00:00\u001b[0m\n",
            "\u001b[?25hInstalling collected packages: watchdog, pydeck, streamlit\n",
            "Successfully installed pydeck-0.9.1 streamlit-1.46.1 watchdog-6.0.0\n"
          ]
        }
      ]
    },
    {
      "cell_type": "code",
      "source": [
        "!pip install transformers"
      ],
      "metadata": {
        "colab": {
          "base_uri": "https://localhost:8080/"
        },
        "id": "n6CeEQEyenEd",
        "outputId": "a371750b-497e-4b9b-ab5a-f61296919037"
      },
      "execution_count": null,
      "outputs": [
        {
          "output_type": "stream",
          "name": "stdout",
          "text": [
            "Requirement already satisfied: transformers in /usr/local/lib/python3.11/dist-packages (4.53.1)\n",
            "Requirement already satisfied: filelock in /usr/local/lib/python3.11/dist-packages (from transformers) (3.18.0)\n",
            "Requirement already satisfied: huggingface-hub<1.0,>=0.30.0 in /usr/local/lib/python3.11/dist-packages (from transformers) (0.33.2)\n",
            "Requirement already satisfied: numpy>=1.17 in /usr/local/lib/python3.11/dist-packages (from transformers) (2.0.2)\n",
            "Requirement already satisfied: packaging>=20.0 in /usr/local/lib/python3.11/dist-packages (from transformers) (24.2)\n",
            "Requirement already satisfied: pyyaml>=5.1 in /usr/local/lib/python3.11/dist-packages (from transformers) (6.0.2)\n",
            "Requirement already satisfied: regex!=2019.12.17 in /usr/local/lib/python3.11/dist-packages (from transformers) (2024.11.6)\n",
            "Requirement already satisfied: requests in /usr/local/lib/python3.11/dist-packages (from transformers) (2.32.3)\n",
            "Requirement already satisfied: tokenizers<0.22,>=0.21 in /usr/local/lib/python3.11/dist-packages (from transformers) (0.21.2)\n",
            "Requirement already satisfied: safetensors>=0.4.3 in /usr/local/lib/python3.11/dist-packages (from transformers) (0.5.3)\n",
            "Requirement already satisfied: tqdm>=4.27 in /usr/local/lib/python3.11/dist-packages (from transformers) (4.67.1)\n",
            "Requirement already satisfied: fsspec>=2023.5.0 in /usr/local/lib/python3.11/dist-packages (from huggingface-hub<1.0,>=0.30.0->transformers) (2025.3.2)\n",
            "Requirement already satisfied: typing-extensions>=3.7.4.3 in /usr/local/lib/python3.11/dist-packages (from huggingface-hub<1.0,>=0.30.0->transformers) (4.14.1)\n",
            "Requirement already satisfied: hf-xet<2.0.0,>=1.1.2 in /usr/local/lib/python3.11/dist-packages (from huggingface-hub<1.0,>=0.30.0->transformers) (1.1.5)\n",
            "Requirement already satisfied: charset-normalizer<4,>=2 in /usr/local/lib/python3.11/dist-packages (from requests->transformers) (3.4.2)\n",
            "Requirement already satisfied: idna<4,>=2.5 in /usr/local/lib/python3.11/dist-packages (from requests->transformers) (3.10)\n",
            "Requirement already satisfied: urllib3<3,>=1.21.1 in /usr/local/lib/python3.11/dist-packages (from requests->transformers) (2.4.0)\n",
            "Requirement already satisfied: certifi>=2017.4.17 in /usr/local/lib/python3.11/dist-packages (from requests->transformers) (2025.7.9)\n"
          ]
        }
      ]
    },
    {
      "cell_type": "code",
      "source": [
        "!pip install google-search-results\n"
      ],
      "metadata": {
        "colab": {
          "base_uri": "https://localhost:8080/"
        },
        "id": "x0g45vFAg4ec",
        "outputId": "ff56b988-7e0a-48cc-a174-87725a0cc350"
      },
      "execution_count": null,
      "outputs": [
        {
          "output_type": "stream",
          "name": "stdout",
          "text": [
            "Collecting google-search-results\n",
            "  Downloading google_search_results-2.4.2.tar.gz (18 kB)\n",
            "  Preparing metadata (setup.py) ... \u001b[?25l\u001b[?25hdone\n",
            "Requirement already satisfied: requests in /usr/local/lib/python3.11/dist-packages (from google-search-results) (2.32.3)\n",
            "Requirement already satisfied: charset-normalizer<4,>=2 in /usr/local/lib/python3.11/dist-packages (from requests->google-search-results) (3.4.2)\n",
            "Requirement already satisfied: idna<4,>=2.5 in /usr/local/lib/python3.11/dist-packages (from requests->google-search-results) (3.10)\n",
            "Requirement already satisfied: urllib3<3,>=1.21.1 in /usr/local/lib/python3.11/dist-packages (from requests->google-search-results) (2.4.0)\n",
            "Requirement already satisfied: certifi>=2017.4.17 in /usr/local/lib/python3.11/dist-packages (from requests->google-search-results) (2025.7.9)\n",
            "Building wheels for collected packages: google-search-results\n",
            "  Building wheel for google-search-results (setup.py) ... \u001b[?25l\u001b[?25hdone\n",
            "  Created wheel for google-search-results: filename=google_search_results-2.4.2-py3-none-any.whl size=32010 sha256=11709a9fca3683bbcf5a1beeda43277d76d627ec3de8f1570a32913445a936b1\n",
            "  Stored in directory: /root/.cache/pip/wheels/6e/42/3e/aeb691b02cb7175ec70e2da04b5658d4739d2b41e5f73cd06f\n",
            "Successfully built google-search-results\n",
            "Installing collected packages: google-search-results\n",
            "Successfully installed google-search-results-2.4.2\n"
          ]
        }
      ]
    },
    {
      "cell_type": "code",
      "source": [
        "!pip uninstall serpapi\n",
        "!pip uninstall google-search-results\n",
        "!pip install google-search-results\n",
        "\n"
      ],
      "metadata": {
        "colab": {
          "base_uri": "https://localhost:8080/"
        },
        "id": "tW0KPoEdhsJn",
        "outputId": "44f6ab1f-c681-485c-cb2d-481ea6239c9e"
      },
      "execution_count": null,
      "outputs": [
        {
          "output_type": "stream",
          "name": "stdout",
          "text": [
            "Found existing installation: serpapi 0.1.5\n",
            "Uninstalling serpapi-0.1.5:\n",
            "  Would remove:\n",
            "    /usr/local/lib/python3.11/dist-packages/serpapi-0.1.5.dist-info/*\n",
            "    /usr/local/lib/python3.11/dist-packages/serpapi/*\n",
            "  Would not remove (might be manually added):\n",
            "    /usr/local/lib/python3.11/dist-packages/serpapi/apple_app_store_search.py\n",
            "    /usr/local/lib/python3.11/dist-packages/serpapi/baidu_search.py\n",
            "    /usr/local/lib/python3.11/dist-packages/serpapi/bing_search.py\n",
            "    /usr/local/lib/python3.11/dist-packages/serpapi/constant.py\n",
            "    /usr/local/lib/python3.11/dist-packages/serpapi/duck_duck_go_search.py\n",
            "    /usr/local/lib/python3.11/dist-packages/serpapi/ebay_search.py\n",
            "    /usr/local/lib/python3.11/dist-packages/serpapi/google_scholar_search.py\n",
            "    /usr/local/lib/python3.11/dist-packages/serpapi/google_search.py\n",
            "    /usr/local/lib/python3.11/dist-packages/serpapi/home_depot_search.py\n",
            "    /usr/local/lib/python3.11/dist-packages/serpapi/naver_search.py\n",
            "    /usr/local/lib/python3.11/dist-packages/serpapi/pagination.py\n",
            "    /usr/local/lib/python3.11/dist-packages/serpapi/serp_api_client.py\n",
            "    /usr/local/lib/python3.11/dist-packages/serpapi/serp_api_client_exception.py\n",
            "    /usr/local/lib/python3.11/dist-packages/serpapi/walmart_search.py\n",
            "    /usr/local/lib/python3.11/dist-packages/serpapi/yahoo_search.py\n",
            "    /usr/local/lib/python3.11/dist-packages/serpapi/yandex_search.py\n",
            "    /usr/local/lib/python3.11/dist-packages/serpapi/youtube_search.py\n",
            "Proceed (Y/n)? Y\n",
            "  Successfully uninstalled serpapi-0.1.5\n",
            "Found existing installation: google_search_results 2.4.2\n",
            "Uninstalling google_search_results-2.4.2:\n",
            "  Would remove:\n",
            "    /usr/local/lib/python3.11/dist-packages/google_search_results-2.4.2.dist-info/*\n",
            "    /usr/local/lib/python3.11/dist-packages/serpapi/apple_app_store_search.py\n",
            "    /usr/local/lib/python3.11/dist-packages/serpapi/baidu_search.py\n",
            "    /usr/local/lib/python3.11/dist-packages/serpapi/bing_search.py\n",
            "    /usr/local/lib/python3.11/dist-packages/serpapi/constant.py\n",
            "    /usr/local/lib/python3.11/dist-packages/serpapi/duck_duck_go_search.py\n",
            "    /usr/local/lib/python3.11/dist-packages/serpapi/ebay_search.py\n",
            "    /usr/local/lib/python3.11/dist-packages/serpapi/google_scholar_search.py\n",
            "    /usr/local/lib/python3.11/dist-packages/serpapi/google_search.py\n",
            "    /usr/local/lib/python3.11/dist-packages/serpapi/home_depot_search.py\n",
            "    /usr/local/lib/python3.11/dist-packages/serpapi/naver_search.py\n",
            "    /usr/local/lib/python3.11/dist-packages/serpapi/pagination.py\n",
            "    /usr/local/lib/python3.11/dist-packages/serpapi/serp_api_client.py\n",
            "    /usr/local/lib/python3.11/dist-packages/serpapi/serp_api_client_exception.py\n",
            "    /usr/local/lib/python3.11/dist-packages/serpapi/walmart_search.py\n",
            "    /usr/local/lib/python3.11/dist-packages/serpapi/yahoo_search.py\n",
            "    /usr/local/lib/python3.11/dist-packages/serpapi/yandex_search.py\n",
            "    /usr/local/lib/python3.11/dist-packages/serpapi/youtube_search.py\n",
            "    /usr/local/lib/python3.11/dist-packages/tests/*\n",
            "  Would not remove (might be manually added):\n",
            "    /usr/local/lib/python3.11/dist-packages/tests/cloud_database_test.py\n",
            "    /usr/local/lib/python3.11/dist-packages/tests/conversion_test.py\n",
            "    /usr/local/lib/python3.11/dist-packages/tests/graph_entities_test.py\n",
            "    /usr/local/lib/python3.11/dist-packages/tests/graph_server_test.py\n",
            "    /usr/local/lib/python3.11/dist-packages/tests/magics_test.py\n",
            "    /usr/local/lib/python3.11/dist-packages/tests/node_expansion_test.py\n",
            "    /usr/local/lib/python3.11/dist-packages/tests/sample_notebook_test.py\n",
            "    /usr/local/lib/python3.11/dist-packages/tests/schema_manager_test.py\n",
            "    /usr/local/lib/python3.11/dist-packages/tests/server_test.py\n",
            "    /usr/local/lib/python3.11/dist-packages/tests/test_notebook.json\n",
            "    /usr/local/lib/python3.11/dist-packages/tests/tox-plugin/setup.py\n",
            "    /usr/local/lib/python3.11/dist-packages/tests/tox-plugin/tox.ini\n",
            "Proceed (Y/n)? Y\n",
            "  Successfully uninstalled google_search_results-2.4.2\n",
            "Collecting google-search-results\n",
            "  Using cached google_search_results-2.4.2-py3-none-any.whl\n",
            "Requirement already satisfied: requests in /usr/local/lib/python3.11/dist-packages (from google-search-results) (2.32.3)\n",
            "Requirement already satisfied: charset-normalizer<4,>=2 in /usr/local/lib/python3.11/dist-packages (from requests->google-search-results) (3.4.2)\n",
            "Requirement already satisfied: idna<4,>=2.5 in /usr/local/lib/python3.11/dist-packages (from requests->google-search-results) (3.10)\n",
            "Requirement already satisfied: urllib3<3,>=1.21.1 in /usr/local/lib/python3.11/dist-packages (from requests->google-search-results) (2.4.0)\n",
            "Requirement already satisfied: certifi>=2017.4.17 in /usr/local/lib/python3.11/dist-packages (from requests->google-search-results) (2025.7.9)\n",
            "Installing collected packages: google-search-results\n",
            "Successfully installed google-search-results-2.4.2\n"
          ]
        }
      ]
    },
    {
      "cell_type": "code",
      "source": [
        "# import streamlit\n",
        "import numpy as np\n",
        "# from sentence_transformers import SentenceTransformer\n",
        "from transformers import pipeline\n",
        "# from embeddings import texts_to_embed\n",
        "# from pyngrok import ngrok\n",
        "# import streamlit.components.v1 as components"
      ],
      "metadata": {
        "id": "Wb9mIBfqNg8Q"
      },
      "execution_count": null,
      "outputs": []
    },
    {
      "cell_type": "markdown",
      "source": [
        "# Implementation"
      ],
      "metadata": {
        "id": "9ToSo4RJqcmC"
      }
    },
    {
      "cell_type": "code",
      "source": [
        "# # Correct import for GoogleSearch\n",
        "# from serpapi import GoogleSearch\n",
        "import os\n",
        "\n",
        "# Define a simple CreatorState class to avoid NameError\n",
        "class CreatorState(TypedDict):\n",
        "    messages: Annotated[list, add_messages]\n",
        "    user_id: str\n",
        "    query: str\n",
        "    memory: dict\n",
        "    news_results: list\n",
        "    aggregated_results: list\n",
        "    summarized_results: list\n",
        "    user_approved_summaries: list\n",
        "    blog_posts: list\n",
        "    user_approved_blogs: list\n",
        "    recommendations: list\n",
        "\n",
        "# def fetch_news_node(state: CreatorState) -> CreatorState:\n",
        "#     api_key = os.getenv('SERPER_API_KEY')\n",
        "#     params = {\n",
        "#         \"q\": state.query,  # Use dynamic query from state\n",
        "#         \"tbm\": \"nws\",\n",
        "#         \"location\": \"United States\",\n",
        "#         \"hl\": \"en\",\n",
        "#         \"api_key\": api_key,\n",
        "#     }\n",
        "#     print(f\"[News Retriever] Fetching news for: {state.query}\")\n",
        "#     search = GoogleSearch(params)\n",
        "#     results = search.get_dict()\n",
        "#     news_data = []\n",
        "#     for article in results.get(\"news_results\", []):\n",
        "#         news_data.append({\n",
        "#             \"title\": article.get(\"title\"),\n",
        "#             \"content\": article.get(\"snippet\"),\n",
        "#             \"link\": article.get(\"link\")\n",
        "#         })\n",
        "#     state.results.extend(news_data)\n",
        "#     return stat\n",
        "\n",
        "\n"
      ],
      "metadata": {
        "id": "TrvhsPmYspEH"
      },
      "execution_count": null,
      "outputs": []
    },
    {
      "cell_type": "code",
      "source": [
        "\n",
        "graph = StateGraph(CreatorState)\n",
        "llm_with_tools = llm.bind_tools(tools)"
      ],
      "metadata": {
        "id": "QycjXTxoqCr5"
      },
      "execution_count": null,
      "outputs": []
    },
    {
      "cell_type": "code",
      "source": [
        "from langgraph.types import Command, interrupt\n",
        "from langgraph.checkpoint.memory import MemorySaver\n",
        "\n",
        "memory = MemorySaver()"
      ],
      "metadata": {
        "id": "CGxN07byDxAA"
      },
      "execution_count": null,
      "outputs": []
    },
    {
      "cell_type": "code",
      "source": [
        "pip install tavily-python"
      ],
      "metadata": {
        "colab": {
          "base_uri": "https://localhost:8080/"
        },
        "id": "PzyuucJGORkx",
        "outputId": "59b1e117-2bda-4423-b02b-8b1e702f8adb"
      },
      "execution_count": null,
      "outputs": [
        {
          "output_type": "stream",
          "name": "stdout",
          "text": [
            "Collecting tavily-python\n",
            "  Downloading tavily_python-0.7.9-py3-none-any.whl.metadata (7.5 kB)\n",
            "Requirement already satisfied: requests in /usr/local/lib/python3.11/dist-packages (from tavily-python) (2.32.3)\n",
            "Requirement already satisfied: tiktoken>=0.5.1 in /usr/local/lib/python3.11/dist-packages (from tavily-python) (0.9.0)\n",
            "Requirement already satisfied: httpx in /usr/local/lib/python3.11/dist-packages (from tavily-python) (0.28.1)\n",
            "Requirement already satisfied: regex>=2022.1.18 in /usr/local/lib/python3.11/dist-packages (from tiktoken>=0.5.1->tavily-python) (2024.11.6)\n",
            "Requirement already satisfied: charset-normalizer<4,>=2 in /usr/local/lib/python3.11/dist-packages (from requests->tavily-python) (3.4.2)\n",
            "Requirement already satisfied: idna<4,>=2.5 in /usr/local/lib/python3.11/dist-packages (from requests->tavily-python) (3.10)\n",
            "Requirement already satisfied: urllib3<3,>=1.21.1 in /usr/local/lib/python3.11/dist-packages (from requests->tavily-python) (2.4.0)\n",
            "Requirement already satisfied: certifi>=2017.4.17 in /usr/local/lib/python3.11/dist-packages (from requests->tavily-python) (2025.7.9)\n",
            "Requirement already satisfied: anyio in /usr/local/lib/python3.11/dist-packages (from httpx->tavily-python) (4.9.0)\n",
            "Requirement already satisfied: httpcore==1.* in /usr/local/lib/python3.11/dist-packages (from httpx->tavily-python) (1.0.9)\n",
            "Requirement already satisfied: h11>=0.16 in /usr/local/lib/python3.11/dist-packages (from httpcore==1.*->httpx->tavily-python) (0.16.0)\n",
            "Requirement already satisfied: sniffio>=1.1 in /usr/local/lib/python3.11/dist-packages (from anyio->httpx->tavily-python) (1.3.1)\n",
            "Requirement already satisfied: typing_extensions>=4.5 in /usr/local/lib/python3.11/dist-packages (from anyio->httpx->tavily-python) (4.14.1)\n",
            "Downloading tavily_python-0.7.9-py3-none-any.whl (15 kB)\n",
            "Installing collected packages: tavily-python\n",
            "Successfully installed tavily-python-0.7.9\n"
          ]
        }
      ]
    },
    {
      "cell_type": "code",
      "source": [
        "!pip install langsmith"
      ],
      "metadata": {
        "colab": {
          "base_uri": "https://localhost:8080/"
        },
        "id": "q5s4f2MdXQSV",
        "outputId": "22e6d354-a1cc-41b7-cf87-78455656d46d"
      },
      "execution_count": null,
      "outputs": [
        {
          "output_type": "stream",
          "name": "stdout",
          "text": [
            "Requirement already satisfied: langsmith in /usr/local/lib/python3.11/dist-packages (0.4.4)\n",
            "Requirement already satisfied: httpx<1,>=0.23.0 in /usr/local/lib/python3.11/dist-packages (from langsmith) (0.28.1)\n",
            "Requirement already satisfied: orjson<4.0.0,>=3.9.14 in /usr/local/lib/python3.11/dist-packages (from langsmith) (3.10.18)\n",
            "Requirement already satisfied: packaging>=23.2 in /usr/local/lib/python3.11/dist-packages (from langsmith) (24.2)\n",
            "Requirement already satisfied: pydantic<3,>=1 in /usr/local/lib/python3.11/dist-packages (from langsmith) (2.11.7)\n",
            "Requirement already satisfied: requests<3,>=2 in /usr/local/lib/python3.11/dist-packages (from langsmith) (2.32.3)\n",
            "Requirement already satisfied: requests-toolbelt<2.0.0,>=1.0.0 in /usr/local/lib/python3.11/dist-packages (from langsmith) (1.0.0)\n",
            "Requirement already satisfied: zstandard<0.24.0,>=0.23.0 in /usr/local/lib/python3.11/dist-packages (from langsmith) (0.23.0)\n",
            "Requirement already satisfied: anyio in /usr/local/lib/python3.11/dist-packages (from httpx<1,>=0.23.0->langsmith) (4.9.0)\n",
            "Requirement already satisfied: certifi in /usr/local/lib/python3.11/dist-packages (from httpx<1,>=0.23.0->langsmith) (2025.7.9)\n",
            "Requirement already satisfied: httpcore==1.* in /usr/local/lib/python3.11/dist-packages (from httpx<1,>=0.23.0->langsmith) (1.0.9)\n",
            "Requirement already satisfied: idna in /usr/local/lib/python3.11/dist-packages (from httpx<1,>=0.23.0->langsmith) (3.10)\n",
            "Requirement already satisfied: h11>=0.16 in /usr/local/lib/python3.11/dist-packages (from httpcore==1.*->httpx<1,>=0.23.0->langsmith) (0.16.0)\n",
            "Requirement already satisfied: annotated-types>=0.6.0 in /usr/local/lib/python3.11/dist-packages (from pydantic<3,>=1->langsmith) (0.7.0)\n",
            "Requirement already satisfied: pydantic-core==2.33.2 in /usr/local/lib/python3.11/dist-packages (from pydantic<3,>=1->langsmith) (2.33.2)\n",
            "Requirement already satisfied: typing-extensions>=4.12.2 in /usr/local/lib/python3.11/dist-packages (from pydantic<3,>=1->langsmith) (4.14.1)\n",
            "Requirement already satisfied: typing-inspection>=0.4.0 in /usr/local/lib/python3.11/dist-packages (from pydantic<3,>=1->langsmith) (0.4.1)\n",
            "Requirement already satisfied: charset-normalizer<4,>=2 in /usr/local/lib/python3.11/dist-packages (from requests<3,>=2->langsmith) (3.4.2)\n",
            "Requirement already satisfied: urllib3<3,>=1.21.1 in /usr/local/lib/python3.11/dist-packages (from requests<3,>=2->langsmith) (2.4.0)\n",
            "Requirement already satisfied: sniffio>=1.1 in /usr/local/lib/python3.11/dist-packages (from anyio->httpx<1,>=0.23.0->langsmith) (1.3.1)\n"
          ]
        }
      ]
    },
    {
      "cell_type": "code",
      "source": [
        "import langgraph"
      ],
      "metadata": {
        "id": "UhCp6AyaY23T"
      },
      "execution_count": null,
      "outputs": []
    },
    {
      "cell_type": "code",
      "source": [
        "import os\n",
        "from google.colab import userdata\n",
        "\n",
        "os.environ[\"LANGCHAIN_TRACING_V2\"] = \"true\"\n",
        "os.environ[\"LANGCHAIN_API_KEY\"] = userdata.get(\"LANGSMITH_API_KEY\")\n",
        "os.environ[\"LANGCHAIN_PROJECT\"] = \"AI-CONTENT-ASSIT\""
      ],
      "metadata": {
        "id": "NA_Dge74cl-9"
      },
      "execution_count": null,
      "outputs": []
    },
    {
      "cell_type": "code",
      "source": [
        "# nodes\n",
        "\n",
        "import requests\n",
        "import langsmith\n",
        "from langsmith import traceable\n",
        "from langgraph.prebuilt import ToolNode\n",
        "from langsmith import Client\n",
        "# Simulated persistent memory store (can replace with a DB/Redis for prod)\n",
        "USER_MEMORY = {}\n",
        "\n",
        "client = Client(api_key=os.environ[\"LANGSMITH_API_KEY\"])\n",
        "\n",
        "def load_memory_context(state):\n",
        "    print(\"**message \", state['messages'])\n",
        "    user_id = state.get(\"user_id\", \"default\")\n",
        "    memory = USER_MEMORY.get(user_id, {})\n",
        "    state[\"memory\"] = memory\n",
        "    return state\n",
        "\n",
        "@traceable(run_type=\"chain\", name=\"Tavily News Search\")\n",
        "def news_retriever(state):\n",
        "    query = state[\"messages\"]\n",
        "\n",
        "\n",
        "    from tavily import TavilyClient\n",
        "    client = TavilyClient(api_key=os.environ[\"TAVILY_API_KEY\"])\n",
        "    response = client.search(query=\"what is trending in AI\\n\")\n",
        "    news_results = []\n",
        "    for item in response.get(\"results\", []):\n",
        "        news_results.append({\n",
        "            \"title\": item.get(\"title\", \"\"),       # Title of the news\n",
        "            \"content\": item.get(\"content\", \"\"),   # Full content for summarization/blog\n",
        "            \"url\": item.get(\"url\", \"\"),           # URL for reference\n",
        "            \"score\": item.get(\"score\", None),     # Optionally keep score if you want to rank/filter\n",
        "        })\n",
        "    state[\"news_results\"] = news_results\n",
        "    print(\"news_results\", news_results)\n",
        "    return state\n",
        "\n",
        "\n",
        "\n",
        "\n",
        "def youtube_retriever(state):\n",
        "    query = state[\"query\"]\n",
        "    # Simulated YouTube API call:\n",
        "    state[\"youtube_results\"] = [{\"title\": f\"Trending video: {query}\", \"description\": \"Sample YouTube desc...\", \"url\": \"https://youtube.com/1\"}]\n",
        "    return state\n",
        "\n",
        "def wiki_retriever(state):\n",
        "    query = state[\"query\"]\n",
        "    # Simulated Wikipedia summary (use Wikipedia-API for prod)\n",
        "    state[\"wiki_results\"] = [{\"title\": query, \"summary\": f\"Wiki summary for {query}\", \"url\": \"https://wikipedia.org/wiki/\" + query.replace(\" \", \"_\")}]\n",
        "    return state\n",
        "\n",
        "def aggregate_results(state):\n",
        "    print(\"aggregate_results\")\n",
        "    results = []\n",
        "    results.extend(state.get(\"news_results\", []))\n",
        "    # results.extend(state.get(\"youtube_results\", []))\n",
        "    # results.extend(state.get(\"wiki_results\", []))\n",
        "    state[\"aggregated_results\"] = results\n",
        "    return state\n",
        "\n",
        "def summarize_results(state):\n",
        "    print(\"summarize_results\")\n",
        "    summarizer = pipeline(\"summarization\", model=\"facebook/bart-large-cnn\")\n",
        "    summarized = []\n",
        "    for item in state[\"aggregated_results\"]:\n",
        "        # Summarize news snippet, description, or wiki summary\n",
        "        text = item.get(\"snippet\") or item.get(\"description\") or item.get(\"summary\")\n",
        "        if text:\n",
        "            summary = summarizer(text, max_length=40, min_length=15, do_sample=False)[0]['summary_text']\n",
        "        else:\n",
        "            summary = \"\"\n",
        "        summarized.append({**item, \"summary\": summary})\n",
        "    state[\"summarized_results\"] = summarized\n",
        "    return state\n",
        "\n",
        "\n",
        "\n",
        "def hil_review_summaries(state):\n",
        "    # Simulate Streamlit UI for user review/edit/approve\n",
        "    print(\"summarizatuon\")\n",
        "    # # st.write(\"### Please review and edit the summaries below:\")\n",
        "\n",
        "    # user_input = input(\"do you wish to continue, enter accept to generate blog, if not start over: \")\n",
        "    # state['summary_action'] = user_input.strip().lower()  # <--- normalize input!\n",
        "\n",
        "    # print(state['summary_action'])\n",
        "\n",
        "    if \"summary_action\" in state:\n",
        "        state[\"summary_action\"] = state[\"action\"]\n",
        "        state[\"user_approved_summaries\"] = state[\"summarized_results\"]\n",
        "        return state\n",
        "    print(\"summarized_results\", state[\"summarized_results\"])\n",
        "    payload = {\"summaries\": state[\"summarized_results\"]}\n",
        "    return interrupt(payload)\n",
        "\n",
        "\n",
        "\n",
        "\n",
        "def blog_script_generation(state):\n",
        "    print(\"blog_script_generation\")\n",
        "    # For demo, just expand summaries into \"blog\" content\n",
        "    generator = pipeline(\"text-generation\", model=\"gpt2\")\n",
        "    blog_posts = []\n",
        "    for item in state[\"summarized_results\"]:\n",
        "        prompt = f\"Write a blog introduction about: {item['title']}.\\n\\nSummary: {item['summary']}\\n\\nBlog post:\"\n",
        "        blog = generator(prompt, max_length=150)[0]['generated_text']\n",
        "        blog_posts.append({**item, \"blog\": blog})\n",
        "    print(\"blog_posts\", blog_posts)\n",
        "    state[\"blog_posts\"] = blog_posts\n",
        "    return state\n",
        "\n",
        "def hitl_review_drafts(state):\n",
        "    # Let the user tweak/select blog drafts\n",
        "    print(\"### Please review your blog drafts:\")\n",
        "    approved_blogs = []\n",
        "    # for i, item in enumerate(state[\"blog_posts\"]):\n",
        "    #     # st.write(f\"**{item['title']}**\")\n",
        "    #     blog = st.text_area(f\"Edit Blog {i+1}\", value=item['blog'], key=f\"blog_{i}\")\n",
        "    #     approved = st.checkbox(f\"Approve this blog?\", value=True, key=f\"approve_blog_{i}\")\n",
        "    #     if approved:\n",
        "    #         approved_blogs.append({**item, \"blog\": blog})\n",
        "    # if st.button(\"Submit Blogs\"):\n",
        "    #     state[\"user_approved_blogs\"] = approved_blogs\n",
        "    # else:\n",
        "    #     st.stop()\n",
        "    return state\n",
        "\n",
        "def recommend_actions(state):\n",
        "    # Generate recommendations for content strategy\n",
        "    recommender = pipeline(\"text-generation\", model=\"gpt2\")\n",
        "    recommendations = []\n",
        "    for item in state[\"user_approved_blogs\"]:\n",
        "        prompt = f\"Suggest actionable tips for a creator based on this blog: {item['blog']}\"\n",
        "        rec = recommender(prompt, max_length=40)[0]['generated_text']\n",
        "        recommendations.append({\"title\": item[\"title\"], \"recommendation\": rec})\n",
        "    state[\"recommendations\"] = recommendations\n",
        "    return state\n",
        "\n",
        "def update_memory(state):\n",
        "    user_id = state.get(\"user_id\", \"default\")\n",
        "    memory = USER_MEMORY.get(user_id, {})\n",
        "    memory.setdefault(\"history\", []).append({\n",
        "        \"query\": state[\"query\"],\n",
        "        \"blogs\": state.get(\"user_approved_blogs\", []),\n",
        "        \"recommendations\": state.get(\"recommendations\", [])\n",
        "    })\n",
        "    USER_MEMORY[user_id] = memory\n",
        "    return state\n",
        "\n",
        "def display_final_results(state):\n",
        "    st.write(\"## Here are your results!\")\n",
        "    for item in state.get(\"user_approved_blogs\", []):\n",
        "        st.write(f\"### {item['title']}\")\n",
        "        st.write(item['blog'])\n",
        "    st.write(\"### Recommendations:\")\n",
        "    for rec in state.get(\"recommendations\", []):\n",
        "        st.write(f\"- {rec['recommendation']}\")\n",
        "    st.success(\"You can export or copy your results now!\")\n",
        "    return state\n",
        "\n",
        "def after_summary(state):\n",
        "    action = state.get(\"user_action\")\n",
        "    if action in (\"accept\", \"edit\"):\n",
        "        return \"bloggen\"\n",
        "    else:\n",
        "        return \"load_memory\"\n",
        "\n",
        "# tools = [news_retriever]\n",
        "# tool_node = ToolNode(tools)"
      ],
      "metadata": {
        "id": "i8VMSOv-qP5w"
      },
      "execution_count": null,
      "outputs": []
    },
    {
      "cell_type": "code",
      "source": [
        "from typing import Literal\n",
        "from langgraph.graph import StateGraph, START\n",
        "  # your TypedDict or Pydantic state\n",
        "\n",
        "graph = StateGraph(CreatorState)\n",
        "\n",
        "# Your nodes\n",
        "graph.add_node(\"load_memory\", load_memory_context)\n",
        "graph.add_node(\"news\", news_retriever)\n",
        "# graph.add_node(\"youtube\", youtube_retriever)\n",
        "# graph.add_node(\"wiki\", wiki_retriever)\n",
        "graph.add_node(\"aggregate\", aggregate_results)\n",
        "graph.add_node(\"summarize\", summarize_results)\n",
        "graph.add_node(\"hitl_summaries\", hil_review_summaries)\n",
        "graph.add_node(\"bloggen\", blog_script_generation)\n",
        "graph.add_node(\"hitl_drafts\", hitl_review_drafts)\n",
        "graph.add_node(\"recommend\", recommend_actions)\n",
        "graph.add_node(\"memory_update\", update_memory)\n",
        "graph.add_node(\"display\", display_final_results)\n",
        "\n",
        "# Entry point\n",
        "graph.add_edge(START, \"load_memory\")\n",
        "\n",
        "# Parallel retrieval\n",
        "graph.add_edge(\"load_memory\", \"news\")\n",
        "# graph.add_edge(\"load_memory\", \"youtube\")\n",
        "# graph.add_edge(\"load_memory\", \"wiki\")\n",
        "\n",
        "# Aggregate all sources\n",
        "graph.add_edge([\"news\"], \"aggregate\")\n",
        "\n",
        "# Summarization step\n",
        "graph.add_edge(\"aggregate\", \"summarize\")\n",
        "\n",
        "# Human-in-the-loop summary review\n",
        "graph.add_edge(\"summarize\", \"hitl_summaries\")\n",
        "\n",
        "# Conditional reroute after summary review\n",
        "def after_summary(state) -> Literal[\"bloggen\", \"load_memory\"]:\n",
        "    print(\"after_summary\")\n",
        "    print(\"DEBUG: summary_action value:\", repr(state.get(\"summary_action\")))\n",
        "    return \"bloggen\" if state.get(\"summary_action\") == \"accept\" else \"load_memory\"\n",
        "\n",
        "graph.add_conditional_edges(\n",
        "    \"hitl_summaries\",\n",
        "    after_summary,\n",
        "    {\"bloggen\": \"bloggen\", \"load_memory\": \"load_memory\"}\n",
        ")\n",
        "\n",
        "# Default fallback to draft generation if user accepted\n",
        "\n",
        "\n",
        "# Blog/script generation → HITL draft review\n",
        "graph.add_edge(\"bloggen\", \"hitl_drafts\")\n",
        "\n",
        "# Conditional reroute after draft review\n",
        "# def after_draft(state) -> Literal[\"recommend\", \"bloggen\"]:\n",
        "#     return \"recommend\" if state[\"user_action\"] in (\"accept\", \"edit\") else \"bloggen\"\n",
        "\n",
        "# graph.add_conditional_edges(\n",
        "#     \"hitl_drafts\",\n",
        "#     after_draft,\n",
        "#     {\"recommend\": \"recommend\", \"bloggen\": \"bloggen\"}\n",
        "# )\n",
        "\n",
        "# # Recommendations → Memory → Display\n",
        "# graph.add_edge(\"recommend\", \"memory_update\")\n",
        "# graph.add_edge(\"memory_update\", \"display\")\n"
      ],
      "metadata": {
        "colab": {
          "base_uri": "https://localhost:8080/"
        },
        "id": "MEMCqfZF1feG",
        "outputId": "729159b2-d774-4017-d6c0-e90042fb9b07"
      },
      "execution_count": null,
      "outputs": [
        {
          "output_type": "execute_result",
          "data": {
            "text/plain": [
              "<langgraph.graph.state.StateGraph at 0x789efe554450>"
            ]
          },
          "metadata": {},
          "execution_count": 47
        }
      ]
    },
    {
      "cell_type": "code",
      "source": [
        "CreatorState['messages']"
      ],
      "metadata": {
        "colab": {
          "base_uri": "https://localhost:8080/"
        },
        "id": "TRG3_lqp7eLm",
        "outputId": "bb827a28-fb52-4b58-a175-ccd517d5d87a"
      },
      "execution_count": null,
      "outputs": [
        {
          "output_type": "execute_result",
          "data": {
            "text/plain": [
              "__main__.CreatorState['messages']"
            ]
          },
          "metadata": {},
          "execution_count": 142
        }
      ]
    },
    {
      "cell_type": "code",
      "source": [
        "graph = graph.compile(interrupt_after=[\"hitl_summaries\"],checkpointer=memory)\n",
        "thread_config = {\"configurable\" : {\"thread_id\":\"1\"}}\n",
        "# graph.invoke(Command(resume=True) , config=thread_config)"
      ],
      "metadata": {
        "id": "IA-cpHJ12GfH"
      },
      "execution_count": null,
      "outputs": []
    },
    {
      "cell_type": "code",
      "source": [
        "from IPython.display import Image, display\n",
        "display(Image(graph.get_graph().draw_mermaid_png()))"
      ],
      "metadata": {
        "colab": {
          "base_uri": "https://localhost:8080/",
          "height": 918
        },
        "id": "iH9bOXj_2OTC",
        "outputId": "73a41e72-ce14-4c59-e544-8a180e56ef49"
      },
      "execution_count": null,
      "outputs": [
        {
          "output_type": "display_data",
          "data": {
            "image/png": "[encoded data removed]",
            "text/plain": [
              "<IPython.core.display.Image object>"
            ]
          },
          "metadata": {}
        }
      ]
    },
    {
      "cell_type": "code",
      "source": [
        "query =\"what is trending in AI\"\n"
      ],
      "metadata": {
        "id": "TVmkpLBq2VR5"
      },
      "execution_count": null,
      "outputs": []
    },
    {
      "cell_type": "code",
      "source": [
        "\n",
        "events = graph.stream(\n",
        "    {\"messages\": [{\"role\": \"user\", \"content\": query}]},\n",
        "    config = thread_config,\n",
        "    stream_mode=\"values\"\n",
        ")"
      ],
      "metadata": {
        "id": "hv56cdzMO4nB"
      },
      "execution_count": null,
      "outputs": []
    },
    {
      "cell_type": "code",
      "source": [
        "for event in events:\n",
        "  if \"messages\" in event:\n",
        "    event[\"messages\"][-1].pretty_print()\n",
        "user_input = input(\"do you wish to continue, enter accept to generate blog, if not start over: \")\n",
        "\n",
        "resume_payload = {\"summary_action\": user_input.strip().lower()}\n",
        "# graph.invoke(Command(resume=resume_payload), config=thread_config)\n",
        "# resume_payload = {\"action\": \"reject\"}\n",
        "# state_after = graph.invoke(Command(resume=resume_payload), config=thread_config)"
      ],
      "metadata": {
        "colab": {
          "base_uri": "https://localhost:8080/"
        },
        "id": "npS94bmwPJ3U",
        "outputId": "f46653ff-9d45-4e4c-a69b-7424389a6242"
      },
      "execution_count": null,
      "outputs": [
        {
          "output_type": "stream",
          "name": "stdout",
          "text": [
            "================================\u001b[1m Human Message \u001b[0m=================================\n",
            "\n",
            "what is trending in AI\n",
            "**message  [HumanMessage(content='what is trending in AI', additional_kwargs={}, response_metadata={}, id='942d3581-c5d0-4c95-8322-8977f614c8e8'), HumanMessage(content='what is trending in AI', additional_kwargs={}, response_metadata={}, id='e3bf00bc-bd79-41dd-a391-ba581476058f')]\n",
            "================================\u001b[1m Human Message \u001b[0m=================================\n",
            "\n",
            "what is trending in AI\n",
            "news_results [{'title': '5 AI Trends Shaping Innovation and ROI in 2025 | Morgan Stanley', 'content': '“Recent AI advancements will harness the power of Jevons Paradox, to drive the long-term demand for AI and further increase the total addressable market for all participants in the ecosystem,” said Dave Chen, Head of Global Technology Investment Banking at Morgan Stanley, referring to the effect when increased efficiency leads to higher overall consumption. “Writing code has become much faster with AI, but now the value is in testing and understanding it and seeing if it works for the business,” said Enrique Perez-Hernandez, Head of Global Technology Investment Banking at Morgan Stanley.“Data companies are building AI engines more focused on helping companies understand whether LLMs are working properly and doing the right thing for the business.”', 'url': 'https://www.morganstanley.com/insights/articles/ai-trends-reasoning-frontier-models-2025-tmt', 'score': 0.5996498}, {'title': 'The Top Artificial Intelligence Trends - IBM', 'content': 'Its head-turning improvement over prior state-of-the-art performance on highly technical math and coding benchmarks initiated an arms race in so-called “reasoning models.” Their enhanced performance on tasks requiring logical decision-making figures to play an important role in the development of agentic AI. *   Multimodal AI models must demonstrate performance across more than just the text-specific tasks that the Leaderboard benchmarks evaluate. AI models Explore IBM Granite IBM® Granite® is a family of open, performant and trusted AI models tailored for business and optimized to scale your AI applications. Train, validate, tune and deploy generative AI, foundation models and machine learning capabilities with IBM watsonx.ai, a next-generation enterprise studio for AI builders.', 'url': 'https://www.ibm.com/think/insights/artificial-intelligence-trends', 'score': 0.53415143}, {'title': '5 AI Trends Shaping the Future of Public Sector in 2025', 'content': '5 AI Trends Shaping the Future of Public Sector in 2025 | Google Cloud Blog Looking ahead, multimodal AI will enable agencies to analyze local and state-level data and combine it with data from other sources like Google Earth Engine, Google Maps, Waze, and public data sets to improve decision-making, pre-empt climate-related risks and improve public infrastructure. Image 2: https://storage.googleapis.com/gweb-cloudblog-publish/images/28_-_Public_Sector_vUn8tDu.max-700x700.jpg Public Sector ### Google Public Sector supports AI-optimized HPC infrastructure for researchers at Caltech By Amanda Stange • 3-minute read Image 5: https://storage.googleapis.com/gweb-cloudblog-publish/images/PS_Copy_of_Blog_Headers_-_Cloudstyle_3.0_7.max-700x700.png Public Sector ### Accelerating innovation with Agent Assist, Looker (Google Cloud core) and Vertex AI Vector Search, now FedRAMP High authorized By Jordan Sembower • 4-minute read', 'url': 'https://cloud.google.com/blog/topics/public-sector/5-ai-trends-shaping-the-future-of-the-public-sector-in-2025', 'score': 0.5139862}, {'title': \"6 AI trends you'll see more of in 2025 - Microsoft News\", 'content': 'All Microsoft *   Microsoft 365 And Microsoft will remain grounded in its commitment to help people use and build AI that is safe and secure. “AI is already making the impossible feel possible, and over the past year we’ve seen significant numbers of people and organizations moving from AI experimentation to more meaningful adoption,” says Chris Young, executive vice president of business development, strategy and ventures at Microsoft. “There could be synergy between how we are training the models and how those models are powering agents in return,” says Ece Kamar, managing director of Microsoft’s AI Frontiers Lab. That’s because Microsoft Copilot can support you throughout your day as your AI companion. *   Microsoft 365 *   About Microsoft', 'url': 'https://news.microsoft.com/source/features/ai/6-ai-trends-youll-see-more-of-in-2025/', 'score': 0.51076555}, {'title': 'AI News | Latest AI News, Analysis & Events', 'content': 'Applications, Artificial Intelligence, Finance, Industries AI is rewriting the rules of the insurance industry ======================================================================================================================================================== July 11, 2025 Applications, Artificial Intelligence, Companies, Ethics & Society, Google, Healthcare, Industries, Virtual Assistants Image 15: Flag of the EU as the European Commission has seen a flood of interest from companies looking to help create AI Gigafactories across Europe develop and train the next generation of artificial intelligence systems. AGI, Applications, Artificial Intelligence, Cloud, Companies, Data Center, Quantum Computing, Security, Space AGI, Applications, Artificial Intelligence, Chatbots, Companies, Development, Ethics & Society, Virtual Assistants Artificial Intelligence, Cloud, Machine Learning, new_AI and Us Alibaba, Artificial Intelligence, Blockchain, Companies, Deep & Reinforcement Learning, Development Artificial Intelligence, Companies, Deep & Reinforcement Learning, DeepSeek, Development', 'url': 'https://www.artificialintelligence-news.com/', 'score': 0.32469612}]\n",
            "================================\u001b[1m Human Message \u001b[0m=================================\n",
            "\n",
            "what is trending in AI\n",
            "aggregate_results\n",
            "================================\u001b[1m Human Message \u001b[0m=================================\n",
            "\n",
            "what is trending in AI\n",
            "summarize_results\n"
          ]
        },
        {
          "output_type": "stream",
          "name": "stderr",
          "text": [
            "Device set to use cpu\n"
          ]
        },
        {
          "output_type": "stream",
          "name": "stdout",
          "text": [
            "================================\u001b[1m Human Message \u001b[0m=================================\n",
            "\n",
            "what is trending in AI\n",
            "summarizatuon\n",
            "summarized_results [{'title': '5 AI Trends Shaping Innovation and ROI in 2025 | Morgan Stanley', 'content': '“Recent AI advancements will harness the power of Jevons Paradox, to drive the long-term demand for AI and further increase the total addressable market for all participants in the ecosystem,” said Dave Chen, Head of Global Technology Investment Banking at Morgan Stanley, referring to the effect when increased efficiency leads to higher overall consumption. “Writing code has become much faster with AI, but now the value is in testing and understanding it and seeing if it works for the business,” said Enrique Perez-Hernandez, Head of Global Technology Investment Banking at Morgan Stanley.“Data companies are building AI engines more focused on helping companies understand whether LLMs are working properly and doing the right thing for the business.”', 'url': 'https://www.morganstanley.com/insights/articles/ai-trends-reasoning-frontier-models-2025-tmt', 'score': 0.5996498, 'summary': ''}, {'title': 'The Top Artificial Intelligence Trends - IBM', 'content': 'Its head-turning improvement over prior state-of-the-art performance on highly technical math and coding benchmarks initiated an arms race in so-called “reasoning models.” Their enhanced performance on tasks requiring logical decision-making figures to play an important role in the development of agentic AI. *   Multimodal AI models must demonstrate performance across more than just the text-specific tasks that the Leaderboard benchmarks evaluate. AI models Explore IBM Granite IBM® Granite® is a family of open, performant and trusted AI models tailored for business and optimized to scale your AI applications. Train, validate, tune and deploy generative AI, foundation models and machine learning capabilities with IBM watsonx.ai, a next-generation enterprise studio for AI builders.', 'url': 'https://www.ibm.com/think/insights/artificial-intelligence-trends', 'score': 0.53415143, 'summary': ''}, {'title': '5 AI Trends Shaping the Future of Public Sector in 2025', 'content': '5 AI Trends Shaping the Future of Public Sector in 2025 | Google Cloud Blog Looking ahead, multimodal AI will enable agencies to analyze local and state-level data and combine it with data from other sources like Google Earth Engine, Google Maps, Waze, and public data sets to improve decision-making, pre-empt climate-related risks and improve public infrastructure. Image 2: https://storage.googleapis.com/gweb-cloudblog-publish/images/28_-_Public_Sector_vUn8tDu.max-700x700.jpg Public Sector ### Google Public Sector supports AI-optimized HPC infrastructure for researchers at Caltech By Amanda Stange • 3-minute read Image 5: https://storage.googleapis.com/gweb-cloudblog-publish/images/PS_Copy_of_Blog_Headers_-_Cloudstyle_3.0_7.max-700x700.png Public Sector ### Accelerating innovation with Agent Assist, Looker (Google Cloud core) and Vertex AI Vector Search, now FedRAMP High authorized By Jordan Sembower • 4-minute read', 'url': 'https://cloud.google.com/blog/topics/public-sector/5-ai-trends-shaping-the-future-of-the-public-sector-in-2025', 'score': 0.5139862, 'summary': ''}, {'title': \"6 AI trends you'll see more of in 2025 - Microsoft News\", 'content': 'All Microsoft *   Microsoft 365 And Microsoft will remain grounded in its commitment to help people use and build AI that is safe and secure. “AI is already making the impossible feel possible, and over the past year we’ve seen significant numbers of people and organizations moving from AI experimentation to more meaningful adoption,” says Chris Young, executive vice president of business development, strategy and ventures at Microsoft. “There could be synergy between how we are training the models and how those models are powering agents in return,” says Ece Kamar, managing director of Microsoft’s AI Frontiers Lab. That’s because Microsoft Copilot can support you throughout your day as your AI companion. *   Microsoft 365 *   About Microsoft', 'url': 'https://news.microsoft.com/source/features/ai/6-ai-trends-youll-see-more-of-in-2025/', 'score': 0.51076555, 'summary': ''}, {'title': 'AI News | Latest AI News, Analysis & Events', 'content': 'Applications, Artificial Intelligence, Finance, Industries AI is rewriting the rules of the insurance industry ======================================================================================================================================================== July 11, 2025 Applications, Artificial Intelligence, Companies, Ethics & Society, Google, Healthcare, Industries, Virtual Assistants Image 15: Flag of the EU as the European Commission has seen a flood of interest from companies looking to help create AI Gigafactories across Europe develop and train the next generation of artificial intelligence systems. AGI, Applications, Artificial Intelligence, Cloud, Companies, Data Center, Quantum Computing, Security, Space AGI, Applications, Artificial Intelligence, Chatbots, Companies, Development, Ethics & Society, Virtual Assistants Artificial Intelligence, Cloud, Machine Learning, new_AI and Us Alibaba, Artificial Intelligence, Blockchain, Companies, Deep & Reinforcement Learning, Development Artificial Intelligence, Companies, Deep & Reinforcement Learning, DeepSeek, Development', 'url': 'https://www.artificialintelligence-news.com/', 'score': 0.32469612, 'summary': ''}]\n",
            "do you wish to continue, enter accept to generate blog, if not start over: accept\n",
            "summarizatuon\n",
            "summarized_results [{'title': '5 AI Trends Shaping Innovation and ROI in 2025 | Morgan Stanley', 'content': '“Recent AI advancements will harness the power of Jevons Paradox, to drive the long-term demand for AI and further increase the total addressable market for all participants in the ecosystem,” said Dave Chen, Head of Global Technology Investment Banking at Morgan Stanley, referring to the effect when increased efficiency leads to higher overall consumption. “Writing code has become much faster with AI, but now the value is in testing and understanding it and seeing if it works for the business,” said Enrique Perez-Hernandez, Head of Global Technology Investment Banking at Morgan Stanley.“Data companies are building AI engines more focused on helping companies understand whether LLMs are working properly and doing the right thing for the business.”', 'url': 'https://www.morganstanley.com/insights/articles/ai-trends-reasoning-frontier-models-2025-tmt', 'score': 0.5996498, 'summary': ''}, {'title': 'The Top Artificial Intelligence Trends - IBM', 'content': 'Its head-turning improvement over prior state-of-the-art performance on highly technical math and coding benchmarks initiated an arms race in so-called “reasoning models.” Their enhanced performance on tasks requiring logical decision-making figures to play an important role in the development of agentic AI. *   Multimodal AI models must demonstrate performance across more than just the text-specific tasks that the Leaderboard benchmarks evaluate. AI models Explore IBM Granite IBM® Granite® is a family of open, performant and trusted AI models tailored for business and optimized to scale your AI applications. Train, validate, tune and deploy generative AI, foundation models and machine learning capabilities with IBM watsonx.ai, a next-generation enterprise studio for AI builders.', 'url': 'https://www.ibm.com/think/insights/artificial-intelligence-trends', 'score': 0.53415143, 'summary': ''}, {'title': '5 AI Trends Shaping the Future of Public Sector in 2025', 'content': '5 AI Trends Shaping the Future of Public Sector in 2025 | Google Cloud Blog Looking ahead, multimodal AI will enable agencies to analyze local and state-level data and combine it with data from other sources like Google Earth Engine, Google Maps, Waze, and public data sets to improve decision-making, pre-empt climate-related risks and improve public infrastructure. Image 2: https://storage.googleapis.com/gweb-cloudblog-publish/images/28_-_Public_Sector_vUn8tDu.max-700x700.jpg Public Sector ### Google Public Sector supports AI-optimized HPC infrastructure for researchers at Caltech By Amanda Stange • 3-minute read Image 5: https://storage.googleapis.com/gweb-cloudblog-publish/images/PS_Copy_of_Blog_Headers_-_Cloudstyle_3.0_7.max-700x700.png Public Sector ### Accelerating innovation with Agent Assist, Looker (Google Cloud core) and Vertex AI Vector Search, now FedRAMP High authorized By Jordan Sembower • 4-minute read', 'url': 'https://cloud.google.com/blog/topics/public-sector/5-ai-trends-shaping-the-future-of-the-public-sector-in-2025', 'score': 0.5139862, 'summary': ''}, {'title': \"6 AI trends you'll see more of in 2025 - Microsoft News\", 'content': 'All Microsoft *   Microsoft 365 And Microsoft will remain grounded in its commitment to help people use and build AI that is safe and secure. “AI is already making the impossible feel possible, and over the past year we’ve seen significant numbers of people and organizations moving from AI experimentation to more meaningful adoption,” says Chris Young, executive vice president of business development, strategy and ventures at Microsoft. “There could be synergy between how we are training the models and how those models are powering agents in return,” says Ece Kamar, managing director of Microsoft’s AI Frontiers Lab. That’s because Microsoft Copilot can support you throughout your day as your AI companion. *   Microsoft 365 *   About Microsoft', 'url': 'https://news.microsoft.com/source/features/ai/6-ai-trends-youll-see-more-of-in-2025/', 'score': 0.51076555, 'summary': ''}, {'title': 'AI News | Latest AI News, Analysis & Events', 'content': 'Applications, Artificial Intelligence, Finance, Industries AI is rewriting the rules of the insurance industry ======================================================================================================================================================== July 11, 2025 Applications, Artificial Intelligence, Companies, Ethics & Society, Google, Healthcare, Industries, Virtual Assistants Image 15: Flag of the EU as the European Commission has seen a flood of interest from companies looking to help create AI Gigafactories across Europe develop and train the next generation of artificial intelligence systems. AGI, Applications, Artificial Intelligence, Cloud, Companies, Data Center, Quantum Computing, Security, Space AGI, Applications, Artificial Intelligence, Chatbots, Companies, Development, Ethics & Society, Virtual Assistants Artificial Intelligence, Cloud, Machine Learning, new_AI and Us Alibaba, Artificial Intelligence, Blockchain, Companies, Deep & Reinforcement Learning, Development Artificial Intelligence, Companies, Deep & Reinforcement Learning, DeepSeek, Development', 'url': 'https://www.artificialintelligence-news.com/', 'score': 0.32469612, 'summary': ''}]\n",
            "after_summary\n",
            "DEBUG: summary_action value: 'accept'\n"
          ]
        },
        {
          "output_type": "execute_result",
          "data": {
            "text/plain": [
              "{'messages': [HumanMessage(content='what is trending in AI', additional_kwargs={}, response_metadata={}, id='942d3581-c5d0-4c95-8322-8977f614c8e8'),\n",
              "  HumanMessage(content='what is trending in AI', additional_kwargs={}, response_metadata={}, id='e3bf00bc-bd79-41dd-a391-ba581476058f')],\n",
              " 'memory': {},\n",
              " 'news_results': [{'title': '5 AI Trends Shaping Innovation and ROI in 2025 | Morgan Stanley',\n",
              "   'content': '“Recent AI advancements will harness the power of Jevons Paradox, to drive the long-term demand for AI and further increase the total addressable market for all participants in the ecosystem,” said Dave Chen, Head of Global Technology Investment Banking at Morgan Stanley, referring to the effect when increased efficiency leads to higher overall consumption. “Writing code has become much faster with AI, but now the value is in testing and understanding it and seeing if it works for the business,” said Enrique Perez-Hernandez, Head of Global Technology Investment Banking at Morgan Stanley.“Data companies are building AI engines more focused on helping companies understand whether LLMs are working properly and doing the right thing for the business.”',\n",
              "   'url': 'https://www.morganstanley.com/insights/articles/ai-trends-reasoning-frontier-models-2025-tmt',\n",
              "   'score': 0.5996498},\n",
              "  {'title': 'The Top Artificial Intelligence Trends - IBM',\n",
              "   'content': 'Its head-turning improvement over prior state-of-the-art performance on highly technical math and coding benchmarks initiated an arms race in so-called “reasoning models.” Their enhanced performance on tasks requiring logical decision-making figures to play an important role in the development of agentic AI. *   Multimodal AI models must demonstrate performance across more than just the text-specific tasks that the Leaderboard benchmarks evaluate. AI models Explore IBM Granite IBM® Granite® is a family of open, performant and trusted AI models tailored for business and optimized to scale your AI applications. Train, validate, tune and deploy generative AI, foundation models and machine learning capabilities with IBM watsonx.ai, a next-generation enterprise studio for AI builders.',\n",
              "   'url': 'https://www.ibm.com/think/insights/artificial-intelligence-trends',\n",
              "   'score': 0.53415143},\n",
              "  {'title': '5 AI Trends Shaping the Future of Public Sector in 2025',\n",
              "   'content': '5 AI Trends Shaping the Future of Public Sector in 2025 | Google Cloud Blog Looking ahead, multimodal AI will enable agencies to analyze local and state-level data and combine it with data from other sources like Google Earth Engine, Google Maps, Waze, and public data sets to improve decision-making, pre-empt climate-related risks and improve public infrastructure. Image 2: https://storage.googleapis.com/gweb-cloudblog-publish/images/28_-_Public_Sector_vUn8tDu.max-700x700.jpg Public Sector ### Google Public Sector supports AI-optimized HPC infrastructure for researchers at Caltech By Amanda Stange • 3-minute read Image 5: https://storage.googleapis.com/gweb-cloudblog-publish/images/PS_Copy_of_Blog_Headers_-_Cloudstyle_3.0_7.max-700x700.png Public Sector ### Accelerating innovation with Agent Assist, Looker (Google Cloud core) and Vertex AI Vector Search, now FedRAMP High authorized By Jordan Sembower • 4-minute read',\n",
              "   'url': 'https://cloud.google.com/blog/topics/public-sector/5-ai-trends-shaping-the-future-of-the-public-sector-in-2025',\n",
              "   'score': 0.5139862},\n",
              "  {'title': \"6 AI trends you'll see more of in 2025 - Microsoft News\",\n",
              "   'content': 'All Microsoft *   Microsoft 365 And Microsoft will remain grounded in its commitment to help people use and build AI that is safe and secure. “AI is already making the impossible feel possible, and over the past year we’ve seen significant numbers of people and organizations moving from AI experimentation to more meaningful adoption,” says Chris Young, executive vice president of business development, strategy and ventures at Microsoft. “There could be synergy between how we are training the models and how those models are powering agents in return,” says Ece Kamar, managing director of Microsoft’s AI Frontiers Lab. That’s because Microsoft Copilot can support you throughout your day as your AI companion. *   Microsoft 365 *   About Microsoft',\n",
              "   'url': 'https://news.microsoft.com/source/features/ai/6-ai-trends-youll-see-more-of-in-2025/',\n",
              "   'score': 0.51076555},\n",
              "  {'title': 'AI News | Latest AI News, Analysis & Events',\n",
              "   'content': 'Applications, Artificial Intelligence, Finance, Industries AI is rewriting the rules of the insurance industry ======================================================================================================================================================== July 11, 2025 Applications, Artificial Intelligence, Companies, Ethics & Society, Google, Healthcare, Industries, Virtual Assistants Image 15: Flag of the EU as the European Commission has seen a flood of interest from companies looking to help create AI Gigafactories across Europe develop and train the next generation of artificial intelligence systems. AGI, Applications, Artificial Intelligence, Cloud, Companies, Data Center, Quantum Computing, Security, Space AGI, Applications, Artificial Intelligence, Chatbots, Companies, Development, Ethics & Society, Virtual Assistants Artificial Intelligence, Cloud, Machine Learning, new_AI and Us Alibaba, Artificial Intelligence, Blockchain, Companies, Deep & Reinforcement Learning, Development Artificial Intelligence, Companies, Deep & Reinforcement Learning, DeepSeek, Development',\n",
              "   'url': 'https://www.artificialintelligence-news.com/',\n",
              "   'score': 0.32469612}],\n",
              " 'aggregated_results': [{'title': '5 AI Trends Shaping Innovation and ROI in 2025 | Morgan Stanley',\n",
              "   'content': '“Recent AI advancements will harness the power of Jevons Paradox, to drive the long-term demand for AI and further increase the total addressable market for all participants in the ecosystem,” said Dave Chen, Head of Global Technology Investment Banking at Morgan Stanley, referring to the effect when increased efficiency leads to higher overall consumption. “Writing code has become much faster with AI, but now the value is in testing and understanding it and seeing if it works for the business,” said Enrique Perez-Hernandez, Head of Global Technology Investment Banking at Morgan Stanley.“Data companies are building AI engines more focused on helping companies understand whether LLMs are working properly and doing the right thing for the business.”',\n",
              "   'url': 'https://www.morganstanley.com/insights/articles/ai-trends-reasoning-frontier-models-2025-tmt',\n",
              "   'score': 0.5996498},\n",
              "  {'title': 'The Top Artificial Intelligence Trends - IBM',\n",
              "   'content': 'Its head-turning improvement over prior state-of-the-art performance on highly technical math and coding benchmarks initiated an arms race in so-called “reasoning models.” Their enhanced performance on tasks requiring logical decision-making figures to play an important role in the development of agentic AI. *   Multimodal AI models must demonstrate performance across more than just the text-specific tasks that the Leaderboard benchmarks evaluate. AI models Explore IBM Granite IBM® Granite® is a family of open, performant and trusted AI models tailored for business and optimized to scale your AI applications. Train, validate, tune and deploy generative AI, foundation models and machine learning capabilities with IBM watsonx.ai, a next-generation enterprise studio for AI builders.',\n",
              "   'url': 'https://www.ibm.com/think/insights/artificial-intelligence-trends',\n",
              "   'score': 0.53415143},\n",
              "  {'title': '5 AI Trends Shaping the Future of Public Sector in 2025',\n",
              "   'content': '5 AI Trends Shaping the Future of Public Sector in 2025 | Google Cloud Blog Looking ahead, multimodal AI will enable agencies to analyze local and state-level data and combine it with data from other sources like Google Earth Engine, Google Maps, Waze, and public data sets to improve decision-making, pre-empt climate-related risks and improve public infrastructure. Image 2: https://storage.googleapis.com/gweb-cloudblog-publish/images/28_-_Public_Sector_vUn8tDu.max-700x700.jpg Public Sector ### Google Public Sector supports AI-optimized HPC infrastructure for researchers at Caltech By Amanda Stange • 3-minute read Image 5: https://storage.googleapis.com/gweb-cloudblog-publish/images/PS_Copy_of_Blog_Headers_-_Cloudstyle_3.0_7.max-700x700.png Public Sector ### Accelerating innovation with Agent Assist, Looker (Google Cloud core) and Vertex AI Vector Search, now FedRAMP High authorized By Jordan Sembower • 4-minute read',\n",
              "   'url': 'https://cloud.google.com/blog/topics/public-sector/5-ai-trends-shaping-the-future-of-the-public-sector-in-2025',\n",
              "   'score': 0.5139862},\n",
              "  {'title': \"6 AI trends you'll see more of in 2025 - Microsoft News\",\n",
              "   'content': 'All Microsoft *   Microsoft 365 And Microsoft will remain grounded in its commitment to help people use and build AI that is safe and secure. “AI is already making the impossible feel possible, and over the past year we’ve seen significant numbers of people and organizations moving from AI experimentation to more meaningful adoption,” says Chris Young, executive vice president of business development, strategy and ventures at Microsoft. “There could be synergy between how we are training the models and how those models are powering agents in return,” says Ece Kamar, managing director of Microsoft’s AI Frontiers Lab. That’s because Microsoft Copilot can support you throughout your day as your AI companion. *   Microsoft 365 *   About Microsoft',\n",
              "   'url': 'https://news.microsoft.com/source/features/ai/6-ai-trends-youll-see-more-of-in-2025/',\n",
              "   'score': 0.51076555},\n",
              "  {'title': 'AI News | Latest AI News, Analysis & Events',\n",
              "   'content': 'Applications, Artificial Intelligence, Finance, Industries AI is rewriting the rules of the insurance industry ======================================================================================================================================================== July 11, 2025 Applications, Artificial Intelligence, Companies, Ethics & Society, Google, Healthcare, Industries, Virtual Assistants Image 15: Flag of the EU as the European Commission has seen a flood of interest from companies looking to help create AI Gigafactories across Europe develop and train the next generation of artificial intelligence systems. AGI, Applications, Artificial Intelligence, Cloud, Companies, Data Center, Quantum Computing, Security, Space AGI, Applications, Artificial Intelligence, Chatbots, Companies, Development, Ethics & Society, Virtual Assistants Artificial Intelligence, Cloud, Machine Learning, new_AI and Us Alibaba, Artificial Intelligence, Blockchain, Companies, Deep & Reinforcement Learning, Development Artificial Intelligence, Companies, Deep & Reinforcement Learning, DeepSeek, Development',\n",
              "   'url': 'https://www.artificialintelligence-news.com/',\n",
              "   'score': 0.32469612}],\n",
              " 'summarized_results': [{'title': '5 AI Trends Shaping Innovation and ROI in 2025 | Morgan Stanley',\n",
              "   'content': '“Recent AI advancements will harness the power of Jevons Paradox, to drive the long-term demand for AI and further increase the total addressable market for all participants in the ecosystem,” said Dave Chen, Head of Global Technology Investment Banking at Morgan Stanley, referring to the effect when increased efficiency leads to higher overall consumption. “Writing code has become much faster with AI, but now the value is in testing and understanding it and seeing if it works for the business,” said Enrique Perez-Hernandez, Head of Global Technology Investment Banking at Morgan Stanley.“Data companies are building AI engines more focused on helping companies understand whether LLMs are working properly and doing the right thing for the business.”',\n",
              "   'url': 'https://www.morganstanley.com/insights/articles/ai-trends-reasoning-frontier-models-2025-tmt',\n",
              "   'score': 0.5996498,\n",
              "   'summary': ''},\n",
              "  {'title': 'The Top Artificial Intelligence Trends - IBM',\n",
              "   'content': 'Its head-turning improvement over prior state-of-the-art performance on highly technical math and coding benchmarks initiated an arms race in so-called “reasoning models.” Their enhanced performance on tasks requiring logical decision-making figures to play an important role in the development of agentic AI. *   Multimodal AI models must demonstrate performance across more than just the text-specific tasks that the Leaderboard benchmarks evaluate. AI models Explore IBM Granite IBM® Granite® is a family of open, performant and trusted AI models tailored for business and optimized to scale your AI applications. Train, validate, tune and deploy generative AI, foundation models and machine learning capabilities with IBM watsonx.ai, a next-generation enterprise studio for AI builders.',\n",
              "   'url': 'https://www.ibm.com/think/insights/artificial-intelligence-trends',\n",
              "   'score': 0.53415143,\n",
              "   'summary': ''},\n",
              "  {'title': '5 AI Trends Shaping the Future of Public Sector in 2025',\n",
              "   'content': '5 AI Trends Shaping the Future of Public Sector in 2025 | Google Cloud Blog Looking ahead, multimodal AI will enable agencies to analyze local and state-level data and combine it with data from other sources like Google Earth Engine, Google Maps, Waze, and public data sets to improve decision-making, pre-empt climate-related risks and improve public infrastructure. Image 2: https://storage.googleapis.com/gweb-cloudblog-publish/images/28_-_Public_Sector_vUn8tDu.max-700x700.jpg Public Sector ### Google Public Sector supports AI-optimized HPC infrastructure for researchers at Caltech By Amanda Stange • 3-minute read Image 5: https://storage.googleapis.com/gweb-cloudblog-publish/images/PS_Copy_of_Blog_Headers_-_Cloudstyle_3.0_7.max-700x700.png Public Sector ### Accelerating innovation with Agent Assist, Looker (Google Cloud core) and Vertex AI Vector Search, now FedRAMP High authorized By Jordan Sembower • 4-minute read',\n",
              "   'url': 'https://cloud.google.com/blog/topics/public-sector/5-ai-trends-shaping-the-future-of-the-public-sector-in-2025',\n",
              "   'score': 0.5139862,\n",
              "   'summary': ''},\n",
              "  {'title': \"6 AI trends you'll see more of in 2025 - Microsoft News\",\n",
              "   'content': 'All Microsoft *   Microsoft 365 And Microsoft will remain grounded in its commitment to help people use and build AI that is safe and secure. “AI is already making the impossible feel possible, and over the past year we’ve seen significant numbers of people and organizations moving from AI experimentation to more meaningful adoption,” says Chris Young, executive vice president of business development, strategy and ventures at Microsoft. “There could be synergy between how we are training the models and how those models are powering agents in return,” says Ece Kamar, managing director of Microsoft’s AI Frontiers Lab. That’s because Microsoft Copilot can support you throughout your day as your AI companion. *   Microsoft 365 *   About Microsoft',\n",
              "   'url': 'https://news.microsoft.com/source/features/ai/6-ai-trends-youll-see-more-of-in-2025/',\n",
              "   'score': 0.51076555,\n",
              "   'summary': ''},\n",
              "  {'title': 'AI News | Latest AI News, Analysis & Events',\n",
              "   'content': 'Applications, Artificial Intelligence, Finance, Industries AI is rewriting the rules of the insurance industry ======================================================================================================================================================== July 11, 2025 Applications, Artificial Intelligence, Companies, Ethics & Society, Google, Healthcare, Industries, Virtual Assistants Image 15: Flag of the EU as the European Commission has seen a flood of interest from companies looking to help create AI Gigafactories across Europe develop and train the next generation of artificial intelligence systems. AGI, Applications, Artificial Intelligence, Cloud, Companies, Data Center, Quantum Computing, Security, Space AGI, Applications, Artificial Intelligence, Chatbots, Companies, Development, Ethics & Society, Virtual Assistants Artificial Intelligence, Cloud, Machine Learning, new_AI and Us Alibaba, Artificial Intelligence, Blockchain, Companies, Deep & Reinforcement Learning, Development Artificial Intelligence, Companies, Deep & Reinforcement Learning, DeepSeek, Development',\n",
              "   'url': 'https://www.artificialintelligence-news.com/',\n",
              "   'score': 0.32469612,\n",
              "   'summary': ''}],\n",
              " 'blog_posts': [{'title': '5 AI Trends Shaping Innovation and ROI in 2025 | Morgan Stanley',\n",
              "   'content': '“Recent AI advancements will harness the power of Jevons Paradox, to drive the long-term demand for AI and further increase the total addressable market for all participants in the ecosystem,” said Dave Chen, Head of Global Technology Investment Banking at Morgan Stanley, referring to the effect when increased efficiency leads to higher overall consumption. “Writing code has become much faster with AI, but now the value is in testing and understanding it and seeing if it works for the business,” said Enrique Perez-Hernandez, Head of Global Technology Investment Banking at Morgan Stanley.“Data companies are building AI engines more focused on helping companies understand whether LLMs are working properly and doing the right thing for the business.”',\n",
              "   'url': 'https://www.morganstanley.com/insights/articles/ai-trends-reasoning-frontier-models-2025-tmt',\n",
              "   'score': 0.5996498,\n",
              "   'summary': '',\n",
              "   'blog': \"Write a blog introduction about: 5 AI Trends Shaping Innovation and ROI in 2025 | Morgan Stanley.\\n\\nSummary: \\n\\nBlog post:\\n\\nThe future of AI is at stake. The future of the internet has been mapped for the last 50 years. From a technical perspective, AI is the most important tool in the future. A lot of human-computer interaction has been built from scratch, and it's important to distinguish the difference between the two. The goal of the future of AI is to make it ubiquitous, to improve the lives of millions of people. There is no way to prevent the emergence of AI, not even by making it more ubiquitous.\\n\\nThe human brain is very complex. The human brain is involved in many different cognitive functions. This will change as AI becomes ubiquitous. It will be the same for every person. The human brain will be the engine that drives the AI.\\n\\nWhen AI is used to create new things, there will be many benefits and disadvantages. The benefits will include a lot of automation. The disadvantages will include a lot of human effort in making things.\\n\\nThis post explores some of the major problems facing the future of AI.\\n\\nThe Future of AI — The End\\n\\nToday, most people will be reading, listening, reading, reading about a lot of things. This is because there will be more and more information about the future. If\"},\n",
              "  {'title': 'The Top Artificial Intelligence Trends - IBM',\n",
              "   'content': 'Its head-turning improvement over prior state-of-the-art performance on highly technical math and coding benchmarks initiated an arms race in so-called “reasoning models.” Their enhanced performance on tasks requiring logical decision-making figures to play an important role in the development of agentic AI. *   Multimodal AI models must demonstrate performance across more than just the text-specific tasks that the Leaderboard benchmarks evaluate. AI models Explore IBM Granite IBM® Granite® is a family of open, performant and trusted AI models tailored for business and optimized to scale your AI applications. Train, validate, tune and deploy generative AI, foundation models and machine learning capabilities with IBM watsonx.ai, a next-generation enterprise studio for AI builders.',\n",
              "   'url': 'https://www.ibm.com/think/insights/artificial-intelligence-trends',\n",
              "   'score': 0.53415143,\n",
              "   'summary': '',\n",
              "   'blog': \"Write a blog introduction about: The Top Artificial Intelligence Trends - IBM.\\n\\nSummary: \\n\\nBlog post:\\n\\nThe Top Artificial Intelligence Trends - IBM.\\n\\nThe top algorithms are not the only ones to be identified.\\n\\nI will also use the examples in this blog post to show the list of the top algorithmic trends and algorithms.\\n\\nI will be making these graphs based on the above example.\\n\\nThe graph shows the top algorithm trends in the last 14 months with a big difference.\\n\\nWhen you add a few other algorithms to a list like I've mentioned above, those have to be in the top 10 for the year.\\n\\nThe top 10 have to be in the top 10 for the year, but they'll be in the top 10 for the year on average.\\n\\nThe following is an example of how the top 10 algorithms are defined with the average year of the top 10.\\n\\nThe graph above shows how the top algorithms are defined with the average year of the top 10.\\n\\nThe graph above shows how the top algorithms are defined with the average year of the top 10.\\n\\nThe last graph shows how the top algorithms are defined with the average year of the top 10.\\n\\nThe next graph shows how the top algorithms are defined with the average year of the top 10.\\n\\nThe last graph shows\"},\n",
              "  {'title': '5 AI Trends Shaping the Future of Public Sector in 2025',\n",
              "   'content': '5 AI Trends Shaping the Future of Public Sector in 2025 | Google Cloud Blog Looking ahead, multimodal AI will enable agencies to analyze local and state-level data and combine it with data from other sources like Google Earth Engine, Google Maps, Waze, and public data sets to improve decision-making, pre-empt climate-related risks and improve public infrastructure. Image 2: https://storage.googleapis.com/gweb-cloudblog-publish/images/28_-_Public_Sector_vUn8tDu.max-700x700.jpg Public Sector ### Google Public Sector supports AI-optimized HPC infrastructure for researchers at Caltech By Amanda Stange • 3-minute read Image 5: https://storage.googleapis.com/gweb-cloudblog-publish/images/PS_Copy_of_Blog_Headers_-_Cloudstyle_3.0_7.max-700x700.png Public Sector ### Accelerating innovation with Agent Assist, Looker (Google Cloud core) and Vertex AI Vector Search, now FedRAMP High authorized By Jordan Sembower • 4-minute read',\n",
              "   'url': 'https://cloud.google.com/blog/topics/public-sector/5-ai-trends-shaping-the-future-of-the-public-sector-in-2025',\n",
              "   'score': 0.5139862,\n",
              "   'summary': '',\n",
              "   'blog': \"Write a blog introduction about: 5 AI Trends Shaping the Future of Public Sector in 2025.\\n\\nSummary: \\n\\nBlog post: https://blog.thescientist.com/blog/5-arbitrary-intellectual-trends-shaping-the-future-of-public-sector-in-2025/\\n\\nBlog post: https://blog.thescientist.com/blog/blog/blog-post-5-arbitrary-intellectual-trends-shaping-the-future-of-public-sector-in-2025/\\n\\nIn an editorial for Science in Public Interest, a team of researchers and researchers at the University of Missouri and Columbia University analyzed data from a collection of data from 20 institutions across 21 years, and found that the trends in AI performance vary with the size of each institution.\\n\\nThe researchers found that AI performance was tied to the size of the institutional. They found that large institutions tended to have more AI experts, and less AI experts tended to be in their research teams. This pattern was not seen in the more private sectors.\\n\\nA second finding of the researchers' work is that AI professionals are more likely to use their computer skills to improve their job performance. They found that, while AI professionals were more likely to use their skills in the field of computer science, the\"},\n",
              "  {'title': \"6 AI trends you'll see more of in 2025 - Microsoft News\",\n",
              "   'content': 'All Microsoft *   Microsoft 365 And Microsoft will remain grounded in its commitment to help people use and build AI that is safe and secure. “AI is already making the impossible feel possible, and over the past year we’ve seen significant numbers of people and organizations moving from AI experimentation to more meaningful adoption,” says Chris Young, executive vice president of business development, strategy and ventures at Microsoft. “There could be synergy between how we are training the models and how those models are powering agents in return,” says Ece Kamar, managing director of Microsoft’s AI Frontiers Lab. That’s because Microsoft Copilot can support you throughout your day as your AI companion. *   Microsoft 365 *   About Microsoft',\n",
              "   'url': 'https://news.microsoft.com/source/features/ai/6-ai-trends-youll-see-more-of-in-2025/',\n",
              "   'score': 0.51076555,\n",
              "   'summary': '',\n",
              "   'blog': 'Write a blog introduction about: 6 AI trends you\\'ll see more of in 2025 - Microsoft News.\\n\\nSummary: \\n\\nBlog post: How Big Data will transform the world\\n\\nWhy Google\\'s \"smart cars\" are so popular\\n\\nWhy Google\\'s \"smart cars\" are so popular Google says it will be a major part of the future of the car industry\\n\\nWhy Google is the most popular company in the world\\n\\nHow people will be driving cars if Google gets a big slice of the $1 trillion in revenue\\n\\nGoogle\\'s \"smart cars\" are going to be a big part of the future of the car industry Google\\'s chief executive Sundar Pichai says its cars are \"a lot more likely to be used for highway travel, and can be used in places where it\\'s not used for driving,\" and the company is \"very much committed to the proposition that the driving experience will be as seamless as possible.\"\\n\\nGoogle\\'s cars are going to be a lot more likely to be used for highway travel, and can be used in places where it\\'s not used for driving Alphabet CEO Larry Page says the company is \"very much committed to the proposition that the driving experience will be as seamless as possible.\"\\n\\nThe new Google cars will be \"smaller and more compact,\" so they are \"more comfortable and safer,\" says Google VP Eric Schmidt, who\\'s also a vocal'},\n",
              "  {'title': 'AI News | Latest AI News, Analysis & Events',\n",
              "   'content': 'Applications, Artificial Intelligence, Finance, Industries AI is rewriting the rules of the insurance industry ======================================================================================================================================================== July 11, 2025 Applications, Artificial Intelligence, Companies, Ethics & Society, Google, Healthcare, Industries, Virtual Assistants Image 15: Flag of the EU as the European Commission has seen a flood of interest from companies looking to help create AI Gigafactories across Europe develop and train the next generation of artificial intelligence systems. AGI, Applications, Artificial Intelligence, Cloud, Companies, Data Center, Quantum Computing, Security, Space AGI, Applications, Artificial Intelligence, Chatbots, Companies, Development, Ethics & Society, Virtual Assistants Artificial Intelligence, Cloud, Machine Learning, new_AI and Us Alibaba, Artificial Intelligence, Blockchain, Companies, Deep & Reinforcement Learning, Development Artificial Intelligence, Companies, Deep & Reinforcement Learning, DeepSeek, Development',\n",
              "   'url': 'https://www.artificialintelligence-news.com/',\n",
              "   'score': 0.32469612,\n",
              "   'summary': '',\n",
              "   'blog': 'Write a blog introduction about: AI News | Latest AI News, Analysis & Events.\\n\\nSummary: \\n\\nBlog post: http://blog.apple.com/AI-News/\\n\\nNews summary: The Future of AI: http://blog.apple.com/future-of-autonomy/\\n\\nBlog post: http://blog.apple.com/blog/AI-News/\\n\\nBlog post: http://blog.apple.com/blog/AI-News/\\n\\nBlog post: http://blog.apple.com/blog/AI-News/\\n\\nBlog post: http://blog.apple.com/blog/AI-News/\\n\\nBlog post: http://blog.apple.com/blog/AI-News/\\n\\nBlog post: http://blog.apple.com/blog/AI-News/\\n\\nBlog post: http://blog.apple.com/blog/AI-News/\\n\\nBlog post: http://blog.apple.com/blog/AI-News/\\n\\nBlog post: http://blog.apple.com/blog/AI-News/\\n\\nBlog post: http://blog.apple.com/blog/AI-News/\\n\\nBlog post: http://blog.apple.com/blog/AI-News/\\n\\nBlog post: http://blog.apple'}]}"
            ]
          },
          "metadata": {},
          "execution_count": 52
        }
      ]
    },
    {
      "cell_type": "code",
      "source": [
        "graph.invoke(Command(resume=resume_payload), config=thread_config)"
      ],
      "metadata": {
        "colab": {
          "base_uri": "https://localhost:8080/"
        },
        "id": "AQIoiaegARma",
        "outputId": "68b1ee0c-bb9b-48c2-b514-46e594f3d0f2"
      },
      "execution_count": null,
      "outputs": [
        {
          "output_type": "stream",
          "name": "stdout",
          "text": [
            "blog_script_generation\n"
          ]
        },
        {
          "output_type": "stream",
          "name": "stderr",
          "text": [
            "Device set to use cpu\n",
            "Truncation was not explicitly activated but `max_length` is provided a specific value, please use `truncation=True` to explicitly truncate examples to max length. Defaulting to 'longest_first' truncation strategy. If you encode pairs of sequences (GLUE-style) with the tokenizer you can select this strategy more precisely by providing a specific strategy to `truncation`.\n",
            "Setting `pad_token_id` to `eos_token_id`:50256 for open-end generation.\n",
            "Both `max_new_tokens` (=256) and `max_length`(=150) seem to have been set. `max_new_tokens` will take precedence. Please refer to the documentation for more information. (https://huggingface.co/docs/transformers/main/en/main_classes/text_generation)\n",
            "Setting `pad_token_id` to `eos_token_id`:50256 for open-end generation.\n",
            "Both `max_new_tokens` (=256) and `max_length`(=150) seem to have been set. `max_new_tokens` will take precedence. Please refer to the documentation for more information. (https://huggingface.co/docs/transformers/main/en/main_classes/text_generation)\n",
            "Setting `pad_token_id` to `eos_token_id`:50256 for open-end generation.\n",
            "Both `max_new_tokens` (=256) and `max_length`(=150) seem to have been set. `max_new_tokens` will take precedence. Please refer to the documentation for more information. (https://huggingface.co/docs/transformers/main/en/main_classes/text_generation)\n",
            "Setting `pad_token_id` to `eos_token_id`:50256 for open-end generation.\n",
            "Both `max_new_tokens` (=256) and `max_length`(=150) seem to have been set. `max_new_tokens` will take precedence. Please refer to the documentation for more information. (https://huggingface.co/docs/transformers/main/en/main_classes/text_generation)\n",
            "Setting `pad_token_id` to `eos_token_id`:50256 for open-end generation.\n",
            "Both `max_new_tokens` (=256) and `max_length`(=150) seem to have been set. `max_new_tokens` will take precedence. Please refer to the documentation for more information. (https://huggingface.co/docs/transformers/main/en/main_classes/text_generation)\n"
          ]
        },
        {
          "output_type": "stream",
          "name": "stdout",
          "text": [
            "blog_posts [{'title': '5 AI Trends Shaping Innovation and ROI in 2025 | Morgan Stanley', 'content': '“Recent AI advancements will harness the power of Jevons Paradox, to drive the long-term demand for AI and further increase the total addressable market for all participants in the ecosystem,” said Dave Chen, Head of Global Technology Investment Banking at Morgan Stanley, referring to the effect when increased efficiency leads to higher overall consumption. “Writing code has become much faster with AI, but now the value is in testing and understanding it and seeing if it works for the business,” said Enrique Perez-Hernandez, Head of Global Technology Investment Banking at Morgan Stanley.“Data companies are building AI engines more focused on helping companies understand whether LLMs are working properly and doing the right thing for the business.”', 'url': 'https://www.morganstanley.com/insights/articles/ai-trends-reasoning-frontier-models-2025-tmt', 'score': 0.5996498, 'summary': '', 'blog': 'Write a blog introduction about: 5 AI Trends Shaping Innovation and ROI in 2025 | Morgan Stanley.\\n\\nSummary: \\n\\nBlog post:\\n\\nHere are some of the key trends that are driving AI development in 2035.\\n\\nIncome inequality is growing.\\n\\nIncome inequality is growing. The gap between rich and poor is growing.\\n\\nThe gap between rich and poor is growing. The income gap between the rich and the poor is growing.\\n\\nThe income gap between the rich and the poor is growing. The gap between the rich and poor is growing.\\n\\nIncome inequality is widening.\\n\\nThe income gap between the rich and the poor is widening.\\n\\nThe income gap between the rich and the poor is widening. The gap between the rich and the poor is widening.\\n\\nData & Future\\n\\nWhat does it mean to be rich in 2025?\\n\\nHere is one way in which it can be done:\\n\\nI am a rich person, but not a poor person.\\n\\nI am a rich person, but not a poor person. I am not a wealthy person.\\n\\nI do not live in a good neighbourhood, but live in an affluent one.\\n\\nI do not live in a good neighbourhood, but live in an affluent one. I am not a wealthy person. I am not a wealthy person.\\n\\nI am'}, {'title': 'The Top Artificial Intelligence Trends - IBM', 'content': 'Its head-turning improvement over prior state-of-the-art performance on highly technical math and coding benchmarks initiated an arms race in so-called “reasoning models.” Their enhanced performance on tasks requiring logical decision-making figures to play an important role in the development of agentic AI. *   Multimodal AI models must demonstrate performance across more than just the text-specific tasks that the Leaderboard benchmarks evaluate. AI models Explore IBM Granite IBM® Granite® is a family of open, performant and trusted AI models tailored for business and optimized to scale your AI applications. Train, validate, tune and deploy generative AI, foundation models and machine learning capabilities with IBM watsonx.ai, a next-generation enterprise studio for AI builders.', 'url': 'https://www.ibm.com/think/insights/artificial-intelligence-trends', 'score': 0.53415143, 'summary': '', 'blog': 'Write a blog introduction about: The Top Artificial Intelligence Trends - IBM.\\n\\nSummary: \\n\\nBlog post: The Top Artificial Intelligence Trends - IBM.\\n\\nSummary: \\n\\nBlog post: The Top Artificial Intelligence Trends - IBM.\\n\\nSummary: \\n\\nBlog post: The Top Artificial Intelligence Trends - IBM.\\n\\nSummary: \\n\\nBlog post: The Top Artificial Intelligence Trends - IBM.\\n\\nSummary: \\n\\nBlog post: The Top Artificial Intelligence Trends - IBM.\\n\\nSummary: \\n\\nBlog post: The Top Artificial Intelligence Trends - IBM.\\n\\nSummary: \\n\\nBlog post: The Top Artificial Intelligence Trends - IBM.\\n\\nSummary: \\n\\nBlog post: The Top Artificial Intelligence Trends - IBM.\\n\\nSummary: \\n\\nBlog post: The Top Artificial Intelligence Trends - IBM.\\n\\nSummary: \\n\\nBlog post: The Top Artificial Intelligence Trends - IBM.\\n\\nSummary: \\n\\nBlog post: The Top Artificial Intelligence Trends - IBM.\\n\\nSummary: \\n\\nBlog post: The Top Artificial Intelligence Trends - IBM.\\n\\nSummary: \\n\\nBlog post: The Top Artificial Intelligence Trends - IBM.\\n\\nSummary: \\n\\nBlog post: The Top Artificial Intelligence Trends - IBM.\\n\\nSummary: \\n\\nBlog post: The Top Artificial Intelligence'}, {'title': '5 AI Trends Shaping the Future of Public Sector in 2025', 'content': '5 AI Trends Shaping the Future of Public Sector in 2025 | Google Cloud Blog Looking ahead, multimodal AI will enable agencies to analyze local and state-level data and combine it with data from other sources like Google Earth Engine, Google Maps, Waze, and public data sets to improve decision-making, pre-empt climate-related risks and improve public infrastructure. Image 2: https://storage.googleapis.com/gweb-cloudblog-publish/images/28_-_Public_Sector_vUn8tDu.max-700x700.jpg Public Sector ### Google Public Sector supports AI-optimized HPC infrastructure for researchers at Caltech By Amanda Stange • 3-minute read Image 5: https://storage.googleapis.com/gweb-cloudblog-publish/images/PS_Copy_of_Blog_Headers_-_Cloudstyle_3.0_7.max-700x700.png Public Sector ### Accelerating innovation with Agent Assist, Looker (Google Cloud core) and Vertex AI Vector Search, now FedRAMP High authorized By Jordan Sembower • 4-minute read', 'url': 'https://cloud.google.com/blog/topics/public-sector/5-ai-trends-shaping-the-future-of-the-public-sector-in-2025', 'score': 0.5139862, 'summary': '', 'blog': 'Write a blog introduction about: 5 AI Trends Shaping the Future of Public Sector in 2025.\\n\\nSummary: \\n\\nBlog post: \\n\\nhttp://blog.british-journal.com/2012/01/5-arctic-tech-industry-finally-wants-to-be-out-of-it-and-want/\\n\\nRelated: \\xa0\\n\\nA look at AI in the early 20th century.\\n\\nAn early example of the future: \\xa0\\n\\nA look at AI in the 20th century.\\n\\nAn outline of the future of AI.\\n\\nA history of AI in the 21st century.\\n\\nThe AI revolution: http://www.theforeveramerican.com/blog/2013/12/the-future-of-tech-technology-in-the-21st-century/\\n\\nhttp://www.theforeveramerican.com/blog/2013/12/the-future-of-technology-technology-in-the-21st-century/ An overview of the future of AI and how it will impact the US.\\n\\nhttp://www.theforeveramerican.com/blog/2013/12/the-future-of-tech-technology-in-the-21st-century/\\n\\nhttp://www.theforever'}, {'title': \"6 AI trends you'll see more of in 2025 - Microsoft News\", 'content': 'All Microsoft *   Microsoft 365 And Microsoft will remain grounded in its commitment to help people use and build AI that is safe and secure. “AI is already making the impossible feel possible, and over the past year we’ve seen significant numbers of people and organizations moving from AI experimentation to more meaningful adoption,” says Chris Young, executive vice president of business development, strategy and ventures at Microsoft. “There could be synergy between how we are training the models and how those models are powering agents in return,” says Ece Kamar, managing director of Microsoft’s AI Frontiers Lab. That’s because Microsoft Copilot can support you throughout your day as your AI companion. *   Microsoft 365 *   About Microsoft', 'url': 'https://news.microsoft.com/source/features/ai/6-ai-trends-youll-see-more-of-in-2025/', 'score': 0.51076555, 'summary': '', 'blog': \"Write a blog introduction about: 6 AI trends you'll see more of in 2025 - Microsoft News.\\n\\nSummary: \\n\\nBlog post: This blog is about the way AI is changing business. It's a fascinating read, but it's not going to help you understand the next big trends. Here are the 6 trends that will change your business.\\n\\n1. AI is changing business.\\n\\nHere are the 6 trends you will see more of in 2025 - Microsoft News.\\n\\n2. AI is changing business.\\n\\nHere are the 6 trends you will see more of in 2025 - Microsoft News.\\n\\n3. AI is changing business.\\n\\nHere are the 6 trends you will see more of in 2025 - Microsoft News.\\n\\n4. AI is changing business.\\n\\nHere are the 6 trends you will see more of in 2025 - Microsoft News.\\n\\n5. AI is changing business.\\n\\nHere are the 6 trends you will see more of in 2025 - Microsoft News.\\n\\n6. AI is changing business.\\n\\nHere are the 6 trends you will see more of in 2025 - Microsoft News.\\n\\n7. AI is changing business.\\n\\nHere are the 6 trends you will see more of in 2025 - Microsoft News.\\n\\n8. AI is changing business.\\n\\nHere are the 6 trends you will see more of in 2025 - Microsoft\"}, {'title': 'AI News | Latest AI News, Analysis & Events', 'content': 'Applications, Artificial Intelligence, Finance, Industries AI is rewriting the rules of the insurance industry ======================================================================================================================================================== July 11, 2025 Applications, Artificial Intelligence, Companies, Ethics & Society, Google, Healthcare, Industries, Virtual Assistants Image 15: Flag of the EU as the European Commission has seen a flood of interest from companies looking to help create AI Gigafactories across Europe develop and train the next generation of artificial intelligence systems. AGI, Applications, Artificial Intelligence, Cloud, Companies, Data Center, Quantum Computing, Security, Space AGI, Applications, Artificial Intelligence, Chatbots, Companies, Development, Ethics & Society, Virtual Assistants Artificial Intelligence, Cloud, Machine Learning, new_AI and Us Alibaba, Artificial Intelligence, Blockchain, Companies, Deep & Reinforcement Learning, Development Artificial Intelligence, Companies, Deep & Reinforcement Learning, DeepSeek, Development', 'url': 'https://www.artificialintelligence-news.com/', 'score': 0.32469612, 'summary': '', 'blog': 'Write a blog introduction about: AI News | Latest AI News, Analysis & Events.\\n\\nSummary: \\n\\nBlog post: AI News | An Introduction to AI News.\\n\\nBlog post: An Introduction to AI News | A Short Introduction to AI News.\\n\\nBlog post: An Introduction to AI News | A Short Introduction to AI News.\\n\\nBlog post: An Introduction to AI News | A Short Introduction to AI News.\\n\\nBlog post: An Introduction to AI News | A Short Introduction to AI News.\\n\\nBlog post: An Introduction to AI News | An Introduction to AI News.\\n\\nBlog post: An Introduction to AI News | An Introduction to AI News.\\n\\nBlog post: An Introduction to AI News | An Introduction to AI News.\\n\\nBlog post: An Introduction to AI News | An Introduction to AI News.\\n\\nBlog post: An Introduction to AI News | An Introduction to AI News.\\n\\nBlog post: An Introduction to AI News | An Introduction to AI News.\\n\\n\\nCategories: Blog post | AI News | Latest AI News, Analysis & Events.'}]\n",
            "### Please review your blog drafts:\n"
          ]
        },
        {
          "output_type": "execute_result",
          "data": {
            "text/plain": [
              "{'messages': [HumanMessage(content='what is trending in AI', additional_kwargs={}, response_metadata={}, id='942d3581-c5d0-4c95-8322-8977f614c8e8'),\n",
              "  HumanMessage(content='what is trending in AI', additional_kwargs={}, response_metadata={}, id='e3bf00bc-bd79-41dd-a391-ba581476058f')],\n",
              " 'memory': {},\n",
              " 'news_results': [{'title': '5 AI Trends Shaping Innovation and ROI in 2025 | Morgan Stanley',\n",
              "   'content': '“Recent AI advancements will harness the power of Jevons Paradox, to drive the long-term demand for AI and further increase the total addressable market for all participants in the ecosystem,” said Dave Chen, Head of Global Technology Investment Banking at Morgan Stanley, referring to the effect when increased efficiency leads to higher overall consumption. “Writing code has become much faster with AI, but now the value is in testing and understanding it and seeing if it works for the business,” said Enrique Perez-Hernandez, Head of Global Technology Investment Banking at Morgan Stanley.“Data companies are building AI engines more focused on helping companies understand whether LLMs are working properly and doing the right thing for the business.”',\n",
              "   'url': 'https://www.morganstanley.com/insights/articles/ai-trends-reasoning-frontier-models-2025-tmt',\n",
              "   'score': 0.5996498},\n",
              "  {'title': 'The Top Artificial Intelligence Trends - IBM',\n",
              "   'content': 'Its head-turning improvement over prior state-of-the-art performance on highly technical math and coding benchmarks initiated an arms race in so-called “reasoning models.” Their enhanced performance on tasks requiring logical decision-making figures to play an important role in the development of agentic AI. *   Multimodal AI models must demonstrate performance across more than just the text-specific tasks that the Leaderboard benchmarks evaluate. AI models Explore IBM Granite IBM® Granite® is a family of open, performant and trusted AI models tailored for business and optimized to scale your AI applications. Train, validate, tune and deploy generative AI, foundation models and machine learning capabilities with IBM watsonx.ai, a next-generation enterprise studio for AI builders.',\n",
              "   'url': 'https://www.ibm.com/think/insights/artificial-intelligence-trends',\n",
              "   'score': 0.53415143},\n",
              "  {'title': '5 AI Trends Shaping the Future of Public Sector in 2025',\n",
              "   'content': '5 AI Trends Shaping the Future of Public Sector in 2025 | Google Cloud Blog Looking ahead, multimodal AI will enable agencies to analyze local and state-level data and combine it with data from other sources like Google Earth Engine, Google Maps, Waze, and public data sets to improve decision-making, pre-empt climate-related risks and improve public infrastructure. Image 2: https://storage.googleapis.com/gweb-cloudblog-publish/images/28_-_Public_Sector_vUn8tDu.max-700x700.jpg Public Sector ### Google Public Sector supports AI-optimized HPC infrastructure for researchers at Caltech By Amanda Stange • 3-minute read Image 5: https://storage.googleapis.com/gweb-cloudblog-publish/images/PS_Copy_of_Blog_Headers_-_Cloudstyle_3.0_7.max-700x700.png Public Sector ### Accelerating innovation with Agent Assist, Looker (Google Cloud core) and Vertex AI Vector Search, now FedRAMP High authorized By Jordan Sembower • 4-minute read',\n",
              "   'url': 'https://cloud.google.com/blog/topics/public-sector/5-ai-trends-shaping-the-future-of-the-public-sector-in-2025',\n",
              "   'score': 0.5139862},\n",
              "  {'title': \"6 AI trends you'll see more of in 2025 - Microsoft News\",\n",
              "   'content': 'All Microsoft *   Microsoft 365 And Microsoft will remain grounded in its commitment to help people use and build AI that is safe and secure. “AI is already making the impossible feel possible, and over the past year we’ve seen significant numbers of people and organizations moving from AI experimentation to more meaningful adoption,” says Chris Young, executive vice president of business development, strategy and ventures at Microsoft. “There could be synergy between how we are training the models and how those models are powering agents in return,” says Ece Kamar, managing director of Microsoft’s AI Frontiers Lab. That’s because Microsoft Copilot can support you throughout your day as your AI companion. *   Microsoft 365 *   About Microsoft',\n",
              "   'url': 'https://news.microsoft.com/source/features/ai/6-ai-trends-youll-see-more-of-in-2025/',\n",
              "   'score': 0.51076555},\n",
              "  {'title': 'AI News | Latest AI News, Analysis & Events',\n",
              "   'content': 'Applications, Artificial Intelligence, Finance, Industries AI is rewriting the rules of the insurance industry ======================================================================================================================================================== July 11, 2025 Applications, Artificial Intelligence, Companies, Ethics & Society, Google, Healthcare, Industries, Virtual Assistants Image 15: Flag of the EU as the European Commission has seen a flood of interest from companies looking to help create AI Gigafactories across Europe develop and train the next generation of artificial intelligence systems. AGI, Applications, Artificial Intelligence, Cloud, Companies, Data Center, Quantum Computing, Security, Space AGI, Applications, Artificial Intelligence, Chatbots, Companies, Development, Ethics & Society, Virtual Assistants Artificial Intelligence, Cloud, Machine Learning, new_AI and Us Alibaba, Artificial Intelligence, Blockchain, Companies, Deep & Reinforcement Learning, Development Artificial Intelligence, Companies, Deep & Reinforcement Learning, DeepSeek, Development',\n",
              "   'url': 'https://www.artificialintelligence-news.com/',\n",
              "   'score': 0.32469612}],\n",
              " 'aggregated_results': [{'title': '5 AI Trends Shaping Innovation and ROI in 2025 | Morgan Stanley',\n",
              "   'content': '“Recent AI advancements will harness the power of Jevons Paradox, to drive the long-term demand for AI and further increase the total addressable market for all participants in the ecosystem,” said Dave Chen, Head of Global Technology Investment Banking at Morgan Stanley, referring to the effect when increased efficiency leads to higher overall consumption. “Writing code has become much faster with AI, but now the value is in testing and understanding it and seeing if it works for the business,” said Enrique Perez-Hernandez, Head of Global Technology Investment Banking at Morgan Stanley.“Data companies are building AI engines more focused on helping companies understand whether LLMs are working properly and doing the right thing for the business.”',\n",
              "   'url': 'https://www.morganstanley.com/insights/articles/ai-trends-reasoning-frontier-models-2025-tmt',\n",
              "   'score': 0.5996498},\n",
              "  {'title': 'The Top Artificial Intelligence Trends - IBM',\n",
              "   'content': 'Its head-turning improvement over prior state-of-the-art performance on highly technical math and coding benchmarks initiated an arms race in so-called “reasoning models.” Their enhanced performance on tasks requiring logical decision-making figures to play an important role in the development of agentic AI. *   Multimodal AI models must demonstrate performance across more than just the text-specific tasks that the Leaderboard benchmarks evaluate. AI models Explore IBM Granite IBM® Granite® is a family of open, performant and trusted AI models tailored for business and optimized to scale your AI applications. Train, validate, tune and deploy generative AI, foundation models and machine learning capabilities with IBM watsonx.ai, a next-generation enterprise studio for AI builders.',\n",
              "   'url': 'https://www.ibm.com/think/insights/artificial-intelligence-trends',\n",
              "   'score': 0.53415143},\n",
              "  {'title': '5 AI Trends Shaping the Future of Public Sector in 2025',\n",
              "   'content': '5 AI Trends Shaping the Future of Public Sector in 2025 | Google Cloud Blog Looking ahead, multimodal AI will enable agencies to analyze local and state-level data and combine it with data from other sources like Google Earth Engine, Google Maps, Waze, and public data sets to improve decision-making, pre-empt climate-related risks and improve public infrastructure. Image 2: https://storage.googleapis.com/gweb-cloudblog-publish/images/28_-_Public_Sector_vUn8tDu.max-700x700.jpg Public Sector ### Google Public Sector supports AI-optimized HPC infrastructure for researchers at Caltech By Amanda Stange • 3-minute read Image 5: https://storage.googleapis.com/gweb-cloudblog-publish/images/PS_Copy_of_Blog_Headers_-_Cloudstyle_3.0_7.max-700x700.png Public Sector ### Accelerating innovation with Agent Assist, Looker (Google Cloud core) and Vertex AI Vector Search, now FedRAMP High authorized By Jordan Sembower • 4-minute read',\n",
              "   'url': 'https://cloud.google.com/blog/topics/public-sector/5-ai-trends-shaping-the-future-of-the-public-sector-in-2025',\n",
              "   'score': 0.5139862},\n",
              "  {'title': \"6 AI trends you'll see more of in 2025 - Microsoft News\",\n",
              "   'content': 'All Microsoft *   Microsoft 365 And Microsoft will remain grounded in its commitment to help people use and build AI that is safe and secure. “AI is already making the impossible feel possible, and over the past year we’ve seen significant numbers of people and organizations moving from AI experimentation to more meaningful adoption,” says Chris Young, executive vice president of business development, strategy and ventures at Microsoft. “There could be synergy between how we are training the models and how those models are powering agents in return,” says Ece Kamar, managing director of Microsoft’s AI Frontiers Lab. That’s because Microsoft Copilot can support you throughout your day as your AI companion. *   Microsoft 365 *   About Microsoft',\n",
              "   'url': 'https://news.microsoft.com/source/features/ai/6-ai-trends-youll-see-more-of-in-2025/',\n",
              "   'score': 0.51076555},\n",
              "  {'title': 'AI News | Latest AI News, Analysis & Events',\n",
              "   'content': 'Applications, Artificial Intelligence, Finance, Industries AI is rewriting the rules of the insurance industry ======================================================================================================================================================== July 11, 2025 Applications, Artificial Intelligence, Companies, Ethics & Society, Google, Healthcare, Industries, Virtual Assistants Image 15: Flag of the EU as the European Commission has seen a flood of interest from companies looking to help create AI Gigafactories across Europe develop and train the next generation of artificial intelligence systems. AGI, Applications, Artificial Intelligence, Cloud, Companies, Data Center, Quantum Computing, Security, Space AGI, Applications, Artificial Intelligence, Chatbots, Companies, Development, Ethics & Society, Virtual Assistants Artificial Intelligence, Cloud, Machine Learning, new_AI and Us Alibaba, Artificial Intelligence, Blockchain, Companies, Deep & Reinforcement Learning, Development Artificial Intelligence, Companies, Deep & Reinforcement Learning, DeepSeek, Development',\n",
              "   'url': 'https://www.artificialintelligence-news.com/',\n",
              "   'score': 0.32469612}],\n",
              " 'summarized_results': [{'title': '5 AI Trends Shaping Innovation and ROI in 2025 | Morgan Stanley',\n",
              "   'content': '“Recent AI advancements will harness the power of Jevons Paradox, to drive the long-term demand for AI and further increase the total addressable market for all participants in the ecosystem,” said Dave Chen, Head of Global Technology Investment Banking at Morgan Stanley, referring to the effect when increased efficiency leads to higher overall consumption. “Writing code has become much faster with AI, but now the value is in testing and understanding it and seeing if it works for the business,” said Enrique Perez-Hernandez, Head of Global Technology Investment Banking at Morgan Stanley.“Data companies are building AI engines more focused on helping companies understand whether LLMs are working properly and doing the right thing for the business.”',\n",
              "   'url': 'https://www.morganstanley.com/insights/articles/ai-trends-reasoning-frontier-models-2025-tmt',\n",
              "   'score': 0.5996498,\n",
              "   'summary': ''},\n",
              "  {'title': 'The Top Artificial Intelligence Trends - IBM',\n",
              "   'content': 'Its head-turning improvement over prior state-of-the-art performance on highly technical math and coding benchmarks initiated an arms race in so-called “reasoning models.” Their enhanced performance on tasks requiring logical decision-making figures to play an important role in the development of agentic AI. *   Multimodal AI models must demonstrate performance across more than just the text-specific tasks that the Leaderboard benchmarks evaluate. AI models Explore IBM Granite IBM® Granite® is a family of open, performant and trusted AI models tailored for business and optimized to scale your AI applications. Train, validate, tune and deploy generative AI, foundation models and machine learning capabilities with IBM watsonx.ai, a next-generation enterprise studio for AI builders.',\n",
              "   'url': 'https://www.ibm.com/think/insights/artificial-intelligence-trends',\n",
              "   'score': 0.53415143,\n",
              "   'summary': ''},\n",
              "  {'title': '5 AI Trends Shaping the Future of Public Sector in 2025',\n",
              "   'content': '5 AI Trends Shaping the Future of Public Sector in 2025 | Google Cloud Blog Looking ahead, multimodal AI will enable agencies to analyze local and state-level data and combine it with data from other sources like Google Earth Engine, Google Maps, Waze, and public data sets to improve decision-making, pre-empt climate-related risks and improve public infrastructure. Image 2: https://storage.googleapis.com/gweb-cloudblog-publish/images/28_-_Public_Sector_vUn8tDu.max-700x700.jpg Public Sector ### Google Public Sector supports AI-optimized HPC infrastructure for researchers at Caltech By Amanda Stange • 3-minute read Image 5: https://storage.googleapis.com/gweb-cloudblog-publish/images/PS_Copy_of_Blog_Headers_-_Cloudstyle_3.0_7.max-700x700.png Public Sector ### Accelerating innovation with Agent Assist, Looker (Google Cloud core) and Vertex AI Vector Search, now FedRAMP High authorized By Jordan Sembower • 4-minute read',\n",
              "   'url': 'https://cloud.google.com/blog/topics/public-sector/5-ai-trends-shaping-the-future-of-the-public-sector-in-2025',\n",
              "   'score': 0.5139862,\n",
              "   'summary': ''},\n",
              "  {'title': \"6 AI trends you'll see more of in 2025 - Microsoft News\",\n",
              "   'content': 'All Microsoft *   Microsoft 365 And Microsoft will remain grounded in its commitment to help people use and build AI that is safe and secure. “AI is already making the impossible feel possible, and over the past year we’ve seen significant numbers of people and organizations moving from AI experimentation to more meaningful adoption,” says Chris Young, executive vice president of business development, strategy and ventures at Microsoft. “There could be synergy between how we are training the models and how those models are powering agents in return,” says Ece Kamar, managing director of Microsoft’s AI Frontiers Lab. That’s because Microsoft Copilot can support you throughout your day as your AI companion. *   Microsoft 365 *   About Microsoft',\n",
              "   'url': 'https://news.microsoft.com/source/features/ai/6-ai-trends-youll-see-more-of-in-2025/',\n",
              "   'score': 0.51076555,\n",
              "   'summary': ''},\n",
              "  {'title': 'AI News | Latest AI News, Analysis & Events',\n",
              "   'content': 'Applications, Artificial Intelligence, Finance, Industries AI is rewriting the rules of the insurance industry ======================================================================================================================================================== July 11, 2025 Applications, Artificial Intelligence, Companies, Ethics & Society, Google, Healthcare, Industries, Virtual Assistants Image 15: Flag of the EU as the European Commission has seen a flood of interest from companies looking to help create AI Gigafactories across Europe develop and train the next generation of artificial intelligence systems. AGI, Applications, Artificial Intelligence, Cloud, Companies, Data Center, Quantum Computing, Security, Space AGI, Applications, Artificial Intelligence, Chatbots, Companies, Development, Ethics & Society, Virtual Assistants Artificial Intelligence, Cloud, Machine Learning, new_AI and Us Alibaba, Artificial Intelligence, Blockchain, Companies, Deep & Reinforcement Learning, Development Artificial Intelligence, Companies, Deep & Reinforcement Learning, DeepSeek, Development',\n",
              "   'url': 'https://www.artificialintelligence-news.com/',\n",
              "   'score': 0.32469612,\n",
              "   'summary': ''}],\n",
              " 'blog_posts': [{'title': '5 AI Trends Shaping Innovation and ROI in 2025 | Morgan Stanley',\n",
              "   'content': '“Recent AI advancements will harness the power of Jevons Paradox, to drive the long-term demand for AI and further increase the total addressable market for all participants in the ecosystem,” said Dave Chen, Head of Global Technology Investment Banking at Morgan Stanley, referring to the effect when increased efficiency leads to higher overall consumption. “Writing code has become much faster with AI, but now the value is in testing and understanding it and seeing if it works for the business,” said Enrique Perez-Hernandez, Head of Global Technology Investment Banking at Morgan Stanley.“Data companies are building AI engines more focused on helping companies understand whether LLMs are working properly and doing the right thing for the business.”',\n",
              "   'url': 'https://www.morganstanley.com/insights/articles/ai-trends-reasoning-frontier-models-2025-tmt',\n",
              "   'score': 0.5996498,\n",
              "   'summary': '',\n",
              "   'blog': 'Write a blog introduction about: 5 AI Trends Shaping Innovation and ROI in 2025 | Morgan Stanley.\\n\\nSummary: \\n\\nBlog post:\\n\\nHere are some of the key trends that are driving AI development in 2035.\\n\\nIncome inequality is growing.\\n\\nIncome inequality is growing. The gap between rich and poor is growing.\\n\\nThe gap between rich and poor is growing. The income gap between the rich and the poor is growing.\\n\\nThe income gap between the rich and the poor is growing. The gap between the rich and poor is growing.\\n\\nIncome inequality is widening.\\n\\nThe income gap between the rich and the poor is widening.\\n\\nThe income gap between the rich and the poor is widening. The gap between the rich and the poor is widening.\\n\\nData & Future\\n\\nWhat does it mean to be rich in 2025?\\n\\nHere is one way in which it can be done:\\n\\nI am a rich person, but not a poor person.\\n\\nI am a rich person, but not a poor person. I am not a wealthy person.\\n\\nI do not live in a good neighbourhood, but live in an affluent one.\\n\\nI do not live in a good neighbourhood, but live in an affluent one. I am not a wealthy person. I am not a wealthy person.\\n\\nI am'},\n",
              "  {'title': 'The Top Artificial Intelligence Trends - IBM',\n",
              "   'content': 'Its head-turning improvement over prior state-of-the-art performance on highly technical math and coding benchmarks initiated an arms race in so-called “reasoning models.” Their enhanced performance on tasks requiring logical decision-making figures to play an important role in the development of agentic AI. *   Multimodal AI models must demonstrate performance across more than just the text-specific tasks that the Leaderboard benchmarks evaluate. AI models Explore IBM Granite IBM® Granite® is a family of open, performant and trusted AI models tailored for business and optimized to scale your AI applications. Train, validate, tune and deploy generative AI, foundation models and machine learning capabilities with IBM watsonx.ai, a next-generation enterprise studio for AI builders.',\n",
              "   'url': 'https://www.ibm.com/think/insights/artificial-intelligence-trends',\n",
              "   'score': 0.53415143,\n",
              "   'summary': '',\n",
              "   'blog': 'Write a blog introduction about: The Top Artificial Intelligence Trends - IBM.\\n\\nSummary: \\n\\nBlog post: The Top Artificial Intelligence Trends - IBM.\\n\\nSummary: \\n\\nBlog post: The Top Artificial Intelligence Trends - IBM.\\n\\nSummary: \\n\\nBlog post: The Top Artificial Intelligence Trends - IBM.\\n\\nSummary: \\n\\nBlog post: The Top Artificial Intelligence Trends - IBM.\\n\\nSummary: \\n\\nBlog post: The Top Artificial Intelligence Trends - IBM.\\n\\nSummary: \\n\\nBlog post: The Top Artificial Intelligence Trends - IBM.\\n\\nSummary: \\n\\nBlog post: The Top Artificial Intelligence Trends - IBM.\\n\\nSummary: \\n\\nBlog post: The Top Artificial Intelligence Trends - IBM.\\n\\nSummary: \\n\\nBlog post: The Top Artificial Intelligence Trends - IBM.\\n\\nSummary: \\n\\nBlog post: The Top Artificial Intelligence Trends - IBM.\\n\\nSummary: \\n\\nBlog post: The Top Artificial Intelligence Trends - IBM.\\n\\nSummary: \\n\\nBlog post: The Top Artificial Intelligence Trends - IBM.\\n\\nSummary: \\n\\nBlog post: The Top Artificial Intelligence Trends - IBM.\\n\\nSummary: \\n\\nBlog post: The Top Artificial Intelligence Trends - IBM.\\n\\nSummary: \\n\\nBlog post: The Top Artificial Intelligence'},\n",
              "  {'title': '5 AI Trends Shaping the Future of Public Sector in 2025',\n",
              "   'content': '5 AI Trends Shaping the Future of Public Sector in 2025 | Google Cloud Blog Looking ahead, multimodal AI will enable agencies to analyze local and state-level data and combine it with data from other sources like Google Earth Engine, Google Maps, Waze, and public data sets to improve decision-making, pre-empt climate-related risks and improve public infrastructure. Image 2: https://storage.googleapis.com/gweb-cloudblog-publish/images/28_-_Public_Sector_vUn8tDu.max-700x700.jpg Public Sector ### Google Public Sector supports AI-optimized HPC infrastructure for researchers at Caltech By Amanda Stange • 3-minute read Image 5: https://storage.googleapis.com/gweb-cloudblog-publish/images/PS_Copy_of_Blog_Headers_-_Cloudstyle_3.0_7.max-700x700.png Public Sector ### Accelerating innovation with Agent Assist, Looker (Google Cloud core) and Vertex AI Vector Search, now FedRAMP High authorized By Jordan Sembower • 4-minute read',\n",
              "   'url': 'https://cloud.google.com/blog/topics/public-sector/5-ai-trends-shaping-the-future-of-the-public-sector-in-2025',\n",
              "   'score': 0.5139862,\n",
              "   'summary': '',\n",
              "   'blog': 'Write a blog introduction about: 5 AI Trends Shaping the Future of Public Sector in 2025.\\n\\nSummary: \\n\\nBlog post: \\n\\nhttp://blog.british-journal.com/2012/01/5-arctic-tech-industry-finally-wants-to-be-out-of-it-and-want/\\n\\nRelated: \\xa0\\n\\nA look at AI in the early 20th century.\\n\\nAn early example of the future: \\xa0\\n\\nA look at AI in the 20th century.\\n\\nAn outline of the future of AI.\\n\\nA history of AI in the 21st century.\\n\\nThe AI revolution: http://www.theforeveramerican.com/blog/2013/12/the-future-of-tech-technology-in-the-21st-century/\\n\\nhttp://www.theforeveramerican.com/blog/2013/12/the-future-of-technology-technology-in-the-21st-century/ An overview of the future of AI and how it will impact the US.\\n\\nhttp://www.theforeveramerican.com/blog/2013/12/the-future-of-tech-technology-in-the-21st-century/\\n\\nhttp://www.theforever'},\n",
              "  {'title': \"6 AI trends you'll see more of in 2025 - Microsoft News\",\n",
              "   'content': 'All Microsoft *   Microsoft 365 And Microsoft will remain grounded in its commitment to help people use and build AI that is safe and secure. “AI is already making the impossible feel possible, and over the past year we’ve seen significant numbers of people and organizations moving from AI experimentation to more meaningful adoption,” says Chris Young, executive vice president of business development, strategy and ventures at Microsoft. “There could be synergy between how we are training the models and how those models are powering agents in return,” says Ece Kamar, managing director of Microsoft’s AI Frontiers Lab. That’s because Microsoft Copilot can support you throughout your day as your AI companion. *   Microsoft 365 *   About Microsoft',\n",
              "   'url': 'https://news.microsoft.com/source/features/ai/6-ai-trends-youll-see-more-of-in-2025/',\n",
              "   'score': 0.51076555,\n",
              "   'summary': '',\n",
              "   'blog': \"Write a blog introduction about: 6 AI trends you'll see more of in 2025 - Microsoft News.\\n\\nSummary: \\n\\nBlog post: This blog is about the way AI is changing business. It's a fascinating read, but it's not going to help you understand the next big trends. Here are the 6 trends that will change your business.\\n\\n1. AI is changing business.\\n\\nHere are the 6 trends you will see more of in 2025 - Microsoft News.\\n\\n2. AI is changing business.\\n\\nHere are the 6 trends you will see more of in 2025 - Microsoft News.\\n\\n3. AI is changing business.\\n\\nHere are the 6 trends you will see more of in 2025 - Microsoft News.\\n\\n4. AI is changing business.\\n\\nHere are the 6 trends you will see more of in 2025 - Microsoft News.\\n\\n5. AI is changing business.\\n\\nHere are the 6 trends you will see more of in 2025 - Microsoft News.\\n\\n6. AI is changing business.\\n\\nHere are the 6 trends you will see more of in 2025 - Microsoft News.\\n\\n7. AI is changing business.\\n\\nHere are the 6 trends you will see more of in 2025 - Microsoft News.\\n\\n8. AI is changing business.\\n\\nHere are the 6 trends you will see more of in 2025 - Microsoft\"},\n",
              "  {'title': 'AI News | Latest AI News, Analysis & Events',\n",
              "   'content': 'Applications, Artificial Intelligence, Finance, Industries AI is rewriting the rules of the insurance industry ======================================================================================================================================================== July 11, 2025 Applications, Artificial Intelligence, Companies, Ethics & Society, Google, Healthcare, Industries, Virtual Assistants Image 15: Flag of the EU as the European Commission has seen a flood of interest from companies looking to help create AI Gigafactories across Europe develop and train the next generation of artificial intelligence systems. AGI, Applications, Artificial Intelligence, Cloud, Companies, Data Center, Quantum Computing, Security, Space AGI, Applications, Artificial Intelligence, Chatbots, Companies, Development, Ethics & Society, Virtual Assistants Artificial Intelligence, Cloud, Machine Learning, new_AI and Us Alibaba, Artificial Intelligence, Blockchain, Companies, Deep & Reinforcement Learning, Development Artificial Intelligence, Companies, Deep & Reinforcement Learning, DeepSeek, Development',\n",
              "   'url': 'https://www.artificialintelligence-news.com/',\n",
              "   'score': 0.32469612,\n",
              "   'summary': '',\n",
              "   'blog': 'Write a blog introduction about: AI News | Latest AI News, Analysis & Events.\\n\\nSummary: \\n\\nBlog post: AI News | An Introduction to AI News.\\n\\nBlog post: An Introduction to AI News | A Short Introduction to AI News.\\n\\nBlog post: An Introduction to AI News | A Short Introduction to AI News.\\n\\nBlog post: An Introduction to AI News | A Short Introduction to AI News.\\n\\nBlog post: An Introduction to AI News | A Short Introduction to AI News.\\n\\nBlog post: An Introduction to AI News | An Introduction to AI News.\\n\\nBlog post: An Introduction to AI News | An Introduction to AI News.\\n\\nBlog post: An Introduction to AI News | An Introduction to AI News.\\n\\nBlog post: An Introduction to AI News | An Introduction to AI News.\\n\\nBlog post: An Introduction to AI News | An Introduction to AI News.\\n\\nBlog post: An Introduction to AI News | An Introduction to AI News.\\n\\n\\nCategories: Blog post | AI News | Latest AI News, Analysis & Events.'}]}"
            ]
          },
          "metadata": {},
          "execution_count": 53
        }
      ]
    },
    {
      "cell_type": "code",
      "source": [
        "CreatorState['summarized_results'].values"
      ],
      "metadata": {
        "id": "WE7k5yuAOAr7",
        "colab": {
          "base_uri": "https://localhost:8080/"
        },
        "outputId": "9aad29b6-be1c-4623-8d6e-3542bf3b42cf"
      },
      "execution_count": null,
      "outputs": [
        {
          "output_type": "execute_result",
          "data": {
            "text/plain": [
              "<method 'values' of 'dict' objects>"
            ]
          },
          "metadata": {},
          "execution_count": 80
        }
      ]
    },
    {
      "cell_type": "code",
      "source": [],
      "metadata": {
        "id": "lIBvZUTAQx04"
      },
      "execution_count": null,
      "outputs": []
    }
  ]
}